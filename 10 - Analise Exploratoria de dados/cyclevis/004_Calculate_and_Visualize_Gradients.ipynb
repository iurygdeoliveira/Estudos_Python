{
 "cells": [
  {
   "cell_type": "markdown",
   "id": "6a07480f-c9c2-40f8-80c7-1145e2811b6a",
   "metadata": {},
   "source": [
    "# Data Science for Cycling #4 - How to Calculate Route Gradient with Python\n",
    "- Notebook 4/6\n",
    "- You'll only need Numpy, Pandas, and Matplotlib to follow along\n",
    "- Let's import the libraries and tweak Matplotlib's default stylings:"
   ]
  },
  {
   "cell_type": "code",
   "execution_count": 1,
   "id": "2611741f-f7e8-442d-a451-1d3643a8bb7b",
   "metadata": {},
   "outputs": [],
   "source": [
    "import numpy as np\n",
    "import pandas as pd\n",
    "import matplotlib.pyplot as plt\n",
    "\n",
    "plt.rcParams['figure.figsize'] = (16, 6)\n",
    "plt.rcParams['axes.spines.top'] = False\n",
    "plt.rcParams['axes.spines.right'] = False"
   ]
  },
  {
   "cell_type": "markdown",
   "id": "bd7c7f38-ceec-4a9a-a98d-d4543e2eea8a",
   "metadata": {},
   "source": [
    "- Let's read in the dataset\n",
    "- You'll need the one exported in the previous notebook, as it has elevation and distance data:"
   ]
  },
  {
   "cell_type": "code",
   "execution_count": 2,
   "id": "a6fe5668-6d7b-45c4-9ada-01097bce811d",
   "metadata": {},
   "outputs": [
    {
     "data": {
      "text/html": [
       "<div>\n",
       "<style scoped>\n",
       "    .dataframe tbody tr th:only-of-type {\n",
       "        vertical-align: middle;\n",
       "    }\n",
       "\n",
       "    .dataframe tbody tr th {\n",
       "        vertical-align: top;\n",
       "    }\n",
       "\n",
       "    .dataframe thead th {\n",
       "        text-align: right;\n",
       "    }\n",
       "</style>\n",
       "<table border=\"1\" class=\"dataframe\">\n",
       "  <thead>\n",
       "    <tr style=\"text-align: right;\">\n",
       "      <th></th>\n",
       "      <th>latitude</th>\n",
       "      <th>longitude</th>\n",
       "      <th>elevation</th>\n",
       "      <th>elevation_diff</th>\n",
       "      <th>distance</th>\n",
       "      <th>cum_elevation</th>\n",
       "      <th>cum_distance</th>\n",
       "    </tr>\n",
       "  </thead>\n",
       "  <tbody>\n",
       "    <tr>\n",
       "      <th>0</th>\n",
       "      <td>45.772480</td>\n",
       "      <td>15.958040</td>\n",
       "      <td>113.96</td>\n",
       "      <td>0.00</td>\n",
       "      <td>0.00</td>\n",
       "      <td>0.00</td>\n",
       "      <td>0.00</td>\n",
       "    </tr>\n",
       "    <tr>\n",
       "      <th>1</th>\n",
       "      <td>45.772770</td>\n",
       "      <td>15.959090</td>\n",
       "      <td>115.82</td>\n",
       "      <td>1.86</td>\n",
       "      <td>87.59</td>\n",
       "      <td>1.86</td>\n",
       "      <td>87.59</td>\n",
       "    </tr>\n",
       "    <tr>\n",
       "      <th>2</th>\n",
       "      <td>45.773270</td>\n",
       "      <td>15.958795</td>\n",
       "      <td>116.15</td>\n",
       "      <td>0.33</td>\n",
       "      <td>60.12</td>\n",
       "      <td>2.19</td>\n",
       "      <td>147.71</td>\n",
       "    </tr>\n",
       "    <tr>\n",
       "      <th>3</th>\n",
       "      <td>45.773770</td>\n",
       "      <td>15.958500</td>\n",
       "      <td>116.12</td>\n",
       "      <td>-0.03</td>\n",
       "      <td>60.12</td>\n",
       "      <td>2.16</td>\n",
       "      <td>207.83</td>\n",
       "    </tr>\n",
       "    <tr>\n",
       "      <th>4</th>\n",
       "      <td>45.774235</td>\n",
       "      <td>15.959335</td>\n",
       "      <td>115.98</td>\n",
       "      <td>-0.14</td>\n",
       "      <td>82.87</td>\n",
       "      <td>2.02</td>\n",
       "      <td>290.70</td>\n",
       "    </tr>\n",
       "  </tbody>\n",
       "</table>\n",
       "</div>"
      ],
      "text/plain": [
       "    latitude  longitude  elevation  elevation_diff  distance  cum_elevation  \\\n",
       "0  45.772480  15.958040     113.96            0.00      0.00           0.00   \n",
       "1  45.772770  15.959090     115.82            1.86     87.59           1.86   \n",
       "2  45.773270  15.958795     116.15            0.33     60.12           2.19   \n",
       "3  45.773770  15.958500     116.12           -0.03     60.12           2.16   \n",
       "4  45.774235  15.959335     115.98           -0.14     82.87           2.02   \n",
       "\n",
       "   cum_distance  \n",
       "0          0.00  \n",
       "1         87.59  \n",
       "2        147.71  \n",
       "3        207.83  \n",
       "4        290.70  "
      ]
     },
     "execution_count": 2,
     "metadata": {},
     "output_type": "execute_result"
    }
   ],
   "source": [
    "route_df = pd.read_csv('../data/route_df_elevation_distance.csv')\n",
    "route_df.head()"
   ]
  },
  {
   "cell_type": "markdown",
   "id": "56fc52cc-8847-4f2e-8c02-bb7bf2865773",
   "metadata": {},
   "source": [
    "<br>\n",
    "\n",
    "## How to Calculate Gradient from a Strava Route\n",
    "- A gradient is nothing but a slope of the surface you're riding on\n",
    "- Our data is quite limited, as we have only 835 data points spread over 36 kilometers, but let's do our best\n",
    "- We can estimate the average gradient between two data points by dividing the elevation difference between them with the distance covered and multiplying the result with a 100\n",
    "- Let's test the logic with hardcoded values from the second data point:"
   ]
  },
  {
   "cell_type": "code",
   "execution_count": 3,
   "id": "3f21f2b9-a93e-4ded-b878-9db0fdca6f55",
   "metadata": {},
   "outputs": [
    {
     "data": {
      "text/plain": [
       "2.1235300833428474"
      ]
     },
     "execution_count": 3,
     "metadata": {},
     "output_type": "execute_result"
    }
   ],
   "source": [
    "(1.86 / 87.59) * 100"
   ]
  },
  {
   "cell_type": "markdown",
   "id": "83b31ab2-d06a-47f8-9cca-b52e1093117e",
   "metadata": {},
   "source": [
    "- The average grade from the route start (point 1) to the second data point was 2.1%\n",
    "- It's only the average, so in the 87 meters we could have 15 meters with 10% grade and the remaining 70 meters completely flat, or the entire 87 meters could be on a 2% incline\n",
    "- The point is - we can't know for sure, so this logic will have to do\n",
    "\n",
    "- Let's apply it to the entire dataset:\n",
    "    - We'll skip the first row, as there's nothing to compare it with\n",
    "    - Gradients are usually rounded to a single decimal points, like 6.1%"
   ]
  },
  {
   "cell_type": "code",
   "execution_count": 4,
   "id": "5950ea68-ce41-4f12-a15a-69c03f50c66e",
   "metadata": {},
   "outputs": [
    {
     "data": {
      "text/plain": [
       "[nan, 2.1, 0.5, -0.0, -0.2, -1.1, 0.8, 1.7, -0.1, -0.5]"
      ]
     },
     "execution_count": 4,
     "metadata": {},
     "output_type": "execute_result"
    }
   ],
   "source": [
    "gradients = [np.nan]\n",
    "\n",
    "for ind, row in route_df.iterrows(): \n",
    "    if ind == 0:\n",
    "        continue\n",
    "    grade = (row['elevation_diff'] / row['distance']) * 100\n",
    "    gradients.append(np.round(grade, 1))\n",
    "    \n",
    "gradients[:10]"
   ]
  },
  {
   "cell_type": "markdown",
   "id": "e3e92001-08a1-412d-9b7b-6936bc79bca4",
   "metadata": {},
   "source": [
    "- Calculations done - we'll now visualize the average gradient for each of the 835 data points\n",
    "    - X-axis: individual data point\n",
    "    - Y-axis: average gradient (%)"
   ]
  },
  {
   "cell_type": "code",
   "execution_count": 5,
   "id": "84752b1e-a926-4c09-8c17-6cfd97e2ab9c",
   "metadata": {},
   "outputs": [
    {
     "data": {
      "image/png": "[encoded data removed]",
      "text/plain": [
       "<Figure size 1152x432 with 1 Axes>"
      ]
     },
     "metadata": {
      "needs_background": "light"
     },
     "output_type": "display_data"
    }
   ],
   "source": [
    "plt.title('Terrain gradient on the route', size=20)\n",
    "plt.xlabel('Data point', size=14)\n",
    "plt.ylabel('Gradient (%)', size=14)\n",
    "plt.plot(np.arange(len(gradients)), gradients, lw=2, color='#101010');"
   ]
  },
  {
   "cell_type": "markdown",
   "id": "3de7f508-f63f-4d4d-9f62-641c7ba27e6d",
   "metadata": {},
   "source": [
    "- There appears to be something wrong with the route file\n",
    "- A single data point has over 1200% gradient, which isn't possible\n",
    "    - In theory, that would mean you gain 1200 meters of elevation for 100 meters of distance\n",
    "- Let's mitigate this issue by adding a condition\n",
    "    - If the estimated average gradient is greater than 30% (there are no such gradients on this route, and grades above 30% are super rare), we'll append a `NaN` to the list of gradients"
   ]
  },
  {
   "cell_type": "code",
   "execution_count": 5,
   "id": "e71c0ba5-ea52-43c4-a932-d2e710c3974d",
   "metadata": {},
   "outputs": [],
   "source": [
    "gradients = [np.nan]\n",
    "\n",
    "for ind, row in route_df.iterrows(): \n",
    "    if ind == 0:\n",
    "        continue\n",
    "        \n",
    "    grade = (row['elevation_diff'] / row['distance']) * 100\n",
    "    \n",
    "    if grade > 30:\n",
    "        gradients.append(np.nan)\n",
    "    else:\n",
    "        gradients.append(np.round(grade, 1))"
   ]
  },
  {
   "cell_type": "markdown",
   "id": "6b28e6c0-3790-480c-9e62-3b23afa9b612",
   "metadata": {},
   "source": [
    "- It should look a lot better now:"
   ]
  },
  {
   "cell_type": "code",
   "execution_count": 6,
   "id": "2ea1d68c-2bd2-4d73-b179-75acc7bfea0d",
   "metadata": {},
   "outputs": [
    {
     "data": {
      "image/png": "[encoded data removed]",
      "text/plain": [
       "<Figure size 1152x432 with 1 Axes>"
      ]
     },
     "metadata": {
      "needs_background": "light"
     },
     "output_type": "display_data"
    }
   ],
   "source": [
    "plt.title('Terrain gradient on the route', size=20)\n",
    "plt.xlabel('Data point', size=14)\n",
    "plt.ylabel('Gradient (%)', size=14)\n",
    "plt.plot(np.arange(len(gradients)), gradients, lw=2, color='#101010');"
   ]
  },
  {
   "cell_type": "markdown",
   "id": "d54b5cae-4b39-471f-a17f-c3bcfe2805b5",
   "metadata": {},
   "source": [
    "- Definitely a step in the right directions, but we now have a couple of missing data points\n",
    "    - Take a look at the previous chart around X value of 400\n",
    "- We'll need to interpolate these\n",
    "\n",
    "<br>\n",
    "\n",
    "## How to Interpolate Incorrect Gradients From a Strava Route\n",
    "- First things first, let's assign the calculated gradients to a new column in the dataset:"
   ]
  },
  {
   "cell_type": "code",
   "execution_count": 7,
   "id": "03d2a823-d5cc-476f-beaf-355a837af4e6",
   "metadata": {},
   "outputs": [
    {
     "data": {
      "text/html": [
       "<div>\n",
       "<style scoped>\n",
       "    .dataframe tbody tr th:only-of-type {\n",
       "        vertical-align: middle;\n",
       "    }\n",
       "\n",
       "    .dataframe tbody tr th {\n",
       "        vertical-align: top;\n",
       "    }\n",
       "\n",
       "    .dataframe thead th {\n",
       "        text-align: right;\n",
       "    }\n",
       "</style>\n",
       "<table border=\"1\" class=\"dataframe\">\n",
       "  <thead>\n",
       "    <tr style=\"text-align: right;\">\n",
       "      <th></th>\n",
       "      <th>latitude</th>\n",
       "      <th>longitude</th>\n",
       "      <th>elevation</th>\n",
       "      <th>elevation_diff</th>\n",
       "      <th>distance</th>\n",
       "      <th>cum_elevation</th>\n",
       "      <th>cum_distance</th>\n",
       "      <th>gradient</th>\n",
       "    </tr>\n",
       "  </thead>\n",
       "  <tbody>\n",
       "    <tr>\n",
       "      <th>0</th>\n",
       "      <td>45.772480</td>\n",
       "      <td>15.958040</td>\n",
       "      <td>113.96</td>\n",
       "      <td>0.00</td>\n",
       "      <td>0.00</td>\n",
       "      <td>0.00</td>\n",
       "      <td>0.00</td>\n",
       "      <td>NaN</td>\n",
       "    </tr>\n",
       "    <tr>\n",
       "      <th>1</th>\n",
       "      <td>45.772770</td>\n",
       "      <td>15.959090</td>\n",
       "      <td>115.82</td>\n",
       "      <td>1.86</td>\n",
       "      <td>87.59</td>\n",
       "      <td>1.86</td>\n",
       "      <td>87.59</td>\n",
       "      <td>2.1</td>\n",
       "    </tr>\n",
       "    <tr>\n",
       "      <th>2</th>\n",
       "      <td>45.773270</td>\n",
       "      <td>15.958795</td>\n",
       "      <td>116.15</td>\n",
       "      <td>0.33</td>\n",
       "      <td>60.12</td>\n",
       "      <td>2.19</td>\n",
       "      <td>147.71</td>\n",
       "      <td>0.5</td>\n",
       "    </tr>\n",
       "    <tr>\n",
       "      <th>3</th>\n",
       "      <td>45.773770</td>\n",
       "      <td>15.958500</td>\n",
       "      <td>116.12</td>\n",
       "      <td>-0.03</td>\n",
       "      <td>60.12</td>\n",
       "      <td>2.16</td>\n",
       "      <td>207.83</td>\n",
       "      <td>-0.0</td>\n",
       "    </tr>\n",
       "    <tr>\n",
       "      <th>4</th>\n",
       "      <td>45.774235</td>\n",
       "      <td>15.959335</td>\n",
       "      <td>115.98</td>\n",
       "      <td>-0.14</td>\n",
       "      <td>82.87</td>\n",
       "      <td>2.02</td>\n",
       "      <td>290.70</td>\n",
       "      <td>-0.2</td>\n",
       "    </tr>\n",
       "  </tbody>\n",
       "</table>\n",
       "</div>"
      ],
      "text/plain": [
       "    latitude  longitude  elevation  elevation_diff  distance  cum_elevation  \\\n",
       "0  45.772480  15.958040     113.96            0.00      0.00           0.00   \n",
       "1  45.772770  15.959090     115.82            1.86     87.59           1.86   \n",
       "2  45.773270  15.958795     116.15            0.33     60.12           2.19   \n",
       "3  45.773770  15.958500     116.12           -0.03     60.12           2.16   \n",
       "4  45.774235  15.959335     115.98           -0.14     82.87           2.02   \n",
       "\n",
       "   cum_distance  gradient  \n",
       "0          0.00       NaN  \n",
       "1         87.59       2.1  \n",
       "2        147.71       0.5  \n",
       "3        207.83      -0.0  \n",
       "4        290.70      -0.2  "
      ]
     },
     "execution_count": 7,
     "metadata": {},
     "output_type": "execute_result"
    }
   ],
   "source": [
    "route_df['gradient'] = gradients\n",
    "route_df.head()"
   ]
  },
  {
   "cell_type": "markdown",
   "id": "625e25fa-add0-4e7a-a92b-f1d64a5c3666",
   "metadata": {},
   "source": [
    "- And now let's see where the missing values are:"
   ]
  },
  {
   "cell_type": "code",
   "execution_count": 8,
   "id": "3fd5ff68-4629-4665-9a46-39a0848bd6d8",
   "metadata": {},
   "outputs": [
    {
     "data": {
      "text/html": [
       "<div>\n",
       "<style scoped>\n",
       "    .dataframe tbody tr th:only-of-type {\n",
       "        vertical-align: middle;\n",
       "    }\n",
       "\n",
       "    .dataframe tbody tr th {\n",
       "        vertical-align: top;\n",
       "    }\n",
       "\n",
       "    .dataframe thead th {\n",
       "        text-align: right;\n",
       "    }\n",
       "</style>\n",
       "<table border=\"1\" class=\"dataframe\">\n",
       "  <thead>\n",
       "    <tr style=\"text-align: right;\">\n",
       "      <th></th>\n",
       "      <th>latitude</th>\n",
       "      <th>longitude</th>\n",
       "      <th>elevation</th>\n",
       "      <th>elevation_diff</th>\n",
       "      <th>distance</th>\n",
       "      <th>cum_elevation</th>\n",
       "      <th>cum_distance</th>\n",
       "      <th>gradient</th>\n",
       "    </tr>\n",
       "  </thead>\n",
       "  <tbody>\n",
       "    <tr>\n",
       "      <th>0</th>\n",
       "      <td>45.77248</td>\n",
       "      <td>15.95804</td>\n",
       "      <td>113.96</td>\n",
       "      <td>0.00</td>\n",
       "      <td>0.00</td>\n",
       "      <td>0.00</td>\n",
       "      <td>0.00</td>\n",
       "      <td>NaN</td>\n",
       "    </tr>\n",
       "    <tr>\n",
       "      <th>403</th>\n",
       "      <td>45.82749</td>\n",
       "      <td>15.85927</td>\n",
       "      <td>239.16</td>\n",
       "      <td>9.47</td>\n",
       "      <td>0.77</td>\n",
       "      <td>125.20</td>\n",
       "      <td>15994.86</td>\n",
       "      <td>NaN</td>\n",
       "    </tr>\n",
       "    <tr>\n",
       "      <th>434</th>\n",
       "      <td>45.82166</td>\n",
       "      <td>15.84892</td>\n",
       "      <td>185.34</td>\n",
       "      <td>6.18</td>\n",
       "      <td>20.33</td>\n",
       "      <td>71.38</td>\n",
       "      <td>17232.97</td>\n",
       "      <td>NaN</td>\n",
       "    </tr>\n",
       "  </tbody>\n",
       "</table>\n",
       "</div>"
      ],
      "text/plain": [
       "     latitude  longitude  elevation  elevation_diff  distance  cum_elevation  \\\n",
       "0    45.77248   15.95804     113.96            0.00      0.00           0.00   \n",
       "403  45.82749   15.85927     239.16            9.47      0.77         125.20   \n",
       "434  45.82166   15.84892     185.34            6.18     20.33          71.38   \n",
       "\n",
       "     cum_distance  gradient  \n",
       "0            0.00       NaN  \n",
       "403      15994.86       NaN  \n",
       "434      17232.97       NaN  "
      ]
     },
     "execution_count": 8,
     "metadata": {},
     "output_type": "execute_result"
    }
   ],
   "source": [
    "route_df[route_df['gradient'].isna()]"
   ]
  },
  {
   "cell_type": "markdown",
   "id": "3ef68ef6-92a9-4495-bd77-0dda0622a977",
   "metadata": {},
   "source": [
    "- We can ignore the first one, as it's missing because there was no way to calculate it\n",
    "- Let's focus on the second one and isolate it with the surrounding couple of rows:"
   ]
  },
  {
   "cell_type": "code",
   "execution_count": 9,
   "id": "c8e99fc7-58fa-43d8-8d76-d0356842dec7",
   "metadata": {},
   "outputs": [
    {
     "data": {
      "text/html": [
       "<div>\n",
       "<style scoped>\n",
       "    .dataframe tbody tr th:only-of-type {\n",
       "        vertical-align: middle;\n",
       "    }\n",
       "\n",
       "    .dataframe tbody tr th {\n",
       "        vertical-align: top;\n",
       "    }\n",
       "\n",
       "    .dataframe thead th {\n",
       "        text-align: right;\n",
       "    }\n",
       "</style>\n",
       "<table border=\"1\" class=\"dataframe\">\n",
       "  <thead>\n",
       "    <tr style=\"text-align: right;\">\n",
       "      <th></th>\n",
       "      <th>latitude</th>\n",
       "      <th>longitude</th>\n",
       "      <th>elevation</th>\n",
       "      <th>elevation_diff</th>\n",
       "      <th>distance</th>\n",
       "      <th>cum_elevation</th>\n",
       "      <th>cum_distance</th>\n",
       "      <th>gradient</th>\n",
       "    </tr>\n",
       "  </thead>\n",
       "  <tbody>\n",
       "    <tr>\n",
       "      <th>401</th>\n",
       "      <td>45.82701</td>\n",
       "      <td>15.859655</td>\n",
       "      <td>229.69</td>\n",
       "      <td>0.00</td>\n",
       "      <td>60.77</td>\n",
       "      <td>115.73</td>\n",
       "      <td>15933.32</td>\n",
       "      <td>0.0</td>\n",
       "    </tr>\n",
       "    <tr>\n",
       "      <th>402</th>\n",
       "      <td>45.82749</td>\n",
       "      <td>15.859280</td>\n",
       "      <td>229.69</td>\n",
       "      <td>0.00</td>\n",
       "      <td>60.77</td>\n",
       "      <td>115.73</td>\n",
       "      <td>15994.09</td>\n",
       "      <td>0.0</td>\n",
       "    </tr>\n",
       "    <tr>\n",
       "      <th>403</th>\n",
       "      <td>45.82749</td>\n",
       "      <td>15.859270</td>\n",
       "      <td>239.16</td>\n",
       "      <td>9.47</td>\n",
       "      <td>0.77</td>\n",
       "      <td>125.20</td>\n",
       "      <td>15994.86</td>\n",
       "      <td>NaN</td>\n",
       "    </tr>\n",
       "    <tr>\n",
       "      <th>404</th>\n",
       "      <td>45.82748</td>\n",
       "      <td>15.859170</td>\n",
       "      <td>238.70</td>\n",
       "      <td>-0.46</td>\n",
       "      <td>7.83</td>\n",
       "      <td>124.74</td>\n",
       "      <td>16002.69</td>\n",
       "      <td>-5.9</td>\n",
       "    </tr>\n",
       "    <tr>\n",
       "      <th>405</th>\n",
       "      <td>45.82742</td>\n",
       "      <td>15.858980</td>\n",
       "      <td>236.33</td>\n",
       "      <td>-2.37</td>\n",
       "      <td>16.16</td>\n",
       "      <td>122.37</td>\n",
       "      <td>16018.85</td>\n",
       "      <td>-14.7</td>\n",
       "    </tr>\n",
       "  </tbody>\n",
       "</table>\n",
       "</div>"
      ],
      "text/plain": [
       "     latitude  longitude  elevation  elevation_diff  distance  cum_elevation  \\\n",
       "401  45.82701  15.859655     229.69            0.00     60.77         115.73   \n",
       "402  45.82749  15.859280     229.69            0.00     60.77         115.73   \n",
       "403  45.82749  15.859270     239.16            9.47      0.77         125.20   \n",
       "404  45.82748  15.859170     238.70           -0.46      7.83         124.74   \n",
       "405  45.82742  15.858980     236.33           -2.37     16.16         122.37   \n",
       "\n",
       "     cum_distance  gradient  \n",
       "401      15933.32       0.0  \n",
       "402      15994.09       0.0  \n",
       "403      15994.86       NaN  \n",
       "404      16002.69      -5.9  \n",
       "405      16018.85     -14.7  "
      ]
     },
     "execution_count": 9,
     "metadata": {},
     "output_type": "execute_result"
    }
   ],
   "source": [
    "route_df[401:406]"
   ]
  },
  {
   "cell_type": "markdown",
   "id": "d2e7c0bb-d3b5-426b-a4d5-84bb7ca5023b",
   "metadata": {},
   "source": [
    "- What a simple interpolation would do is replace the missing value with an average of the data point before and after it\n",
    "- For example, the gradient before the missing value was 0, and after was -5.9\n",
    "    - (0 + 5.9) / 2 = 2.95\n",
    "- Our interpolated gradient is 2.95%"
   ]
  },
  {
   "cell_type": "code",
   "execution_count": 10,
   "id": "336487a0-f322-46dc-910f-cda0ff650763",
   "metadata": {},
   "outputs": [
    {
     "data": {
      "text/html": [
       "<div>\n",
       "<style scoped>\n",
       "    .dataframe tbody tr th:only-of-type {\n",
       "        vertical-align: middle;\n",
       "    }\n",
       "\n",
       "    .dataframe tbody tr th {\n",
       "        vertical-align: top;\n",
       "    }\n",
       "\n",
       "    .dataframe thead th {\n",
       "        text-align: right;\n",
       "    }\n",
       "</style>\n",
       "<table border=\"1\" class=\"dataframe\">\n",
       "  <thead>\n",
       "    <tr style=\"text-align: right;\">\n",
       "      <th></th>\n",
       "      <th>latitude</th>\n",
       "      <th>longitude</th>\n",
       "      <th>elevation</th>\n",
       "      <th>elevation_diff</th>\n",
       "      <th>distance</th>\n",
       "      <th>cum_elevation</th>\n",
       "      <th>cum_distance</th>\n",
       "      <th>gradient</th>\n",
       "    </tr>\n",
       "  </thead>\n",
       "  <tbody>\n",
       "    <tr>\n",
       "      <th>401</th>\n",
       "      <td>45.82701</td>\n",
       "      <td>15.859655</td>\n",
       "      <td>229.69</td>\n",
       "      <td>0.00</td>\n",
       "      <td>60.77</td>\n",
       "      <td>115.73</td>\n",
       "      <td>15933.32</td>\n",
       "      <td>0.00</td>\n",
       "    </tr>\n",
       "    <tr>\n",
       "      <th>402</th>\n",
       "      <td>45.82749</td>\n",
       "      <td>15.859280</td>\n",
       "      <td>229.69</td>\n",
       "      <td>0.00</td>\n",
       "      <td>60.77</td>\n",
       "      <td>115.73</td>\n",
       "      <td>15994.09</td>\n",
       "      <td>0.00</td>\n",
       "    </tr>\n",
       "    <tr>\n",
       "      <th>403</th>\n",
       "      <td>45.82749</td>\n",
       "      <td>15.859270</td>\n",
       "      <td>239.16</td>\n",
       "      <td>9.47</td>\n",
       "      <td>0.77</td>\n",
       "      <td>125.20</td>\n",
       "      <td>15994.86</td>\n",
       "      <td>-2.95</td>\n",
       "    </tr>\n",
       "    <tr>\n",
       "      <th>404</th>\n",
       "      <td>45.82748</td>\n",
       "      <td>15.859170</td>\n",
       "      <td>238.70</td>\n",
       "      <td>-0.46</td>\n",
       "      <td>7.83</td>\n",
       "      <td>124.74</td>\n",
       "      <td>16002.69</td>\n",
       "      <td>-5.90</td>\n",
       "    </tr>\n",
       "    <tr>\n",
       "      <th>405</th>\n",
       "      <td>45.82742</td>\n",
       "      <td>15.858980</td>\n",
       "      <td>236.33</td>\n",
       "      <td>-2.37</td>\n",
       "      <td>16.16</td>\n",
       "      <td>122.37</td>\n",
       "      <td>16018.85</td>\n",
       "      <td>-14.70</td>\n",
       "    </tr>\n",
       "  </tbody>\n",
       "</table>\n",
       "</div>"
      ],
      "text/plain": [
       "     latitude  longitude  elevation  elevation_diff  distance  cum_elevation  \\\n",
       "401  45.82701  15.859655     229.69            0.00     60.77         115.73   \n",
       "402  45.82749  15.859280     229.69            0.00     60.77         115.73   \n",
       "403  45.82749  15.859270     239.16            9.47      0.77         125.20   \n",
       "404  45.82748  15.859170     238.70           -0.46      7.83         124.74   \n",
       "405  45.82742  15.858980     236.33           -2.37     16.16         122.37   \n",
       "\n",
       "     cum_distance  gradient  \n",
       "401      15933.32      0.00  \n",
       "402      15994.09      0.00  \n",
       "403      15994.86     -2.95  \n",
       "404      16002.69     -5.90  \n",
       "405      16018.85    -14.70  "
      ]
     },
     "execution_count": 10,
     "metadata": {},
     "output_type": "execute_result"
    }
   ],
   "source": [
    "route_df[401:406].interpolate()"
   ]
  },
  {
   "cell_type": "markdown",
   "id": "44889dde-f0da-473b-af36-7b6de8b338f6",
   "metadata": {},
   "source": [
    "- Let's not apply it to the entire dataset\n",
    "- We'll also fill the first missng value with 0:"
   ]
  },
  {
   "cell_type": "code",
   "execution_count": 12,
   "id": "8ced6196-c446-4094-b71d-07597aa96c0d",
   "metadata": {},
   "outputs": [
    {
     "data": {
      "text/html": [
       "<div>\n",
       "<style scoped>\n",
       "    .dataframe tbody tr th:only-of-type {\n",
       "        vertical-align: middle;\n",
       "    }\n",
       "\n",
       "    .dataframe tbody tr th {\n",
       "        vertical-align: top;\n",
       "    }\n",
       "\n",
       "    .dataframe thead th {\n",
       "        text-align: right;\n",
       "    }\n",
       "</style>\n",
       "<table border=\"1\" class=\"dataframe\">\n",
       "  <thead>\n",
       "    <tr style=\"text-align: right;\">\n",
       "      <th></th>\n",
       "      <th>latitude</th>\n",
       "      <th>longitude</th>\n",
       "      <th>elevation</th>\n",
       "      <th>elevation_diff</th>\n",
       "      <th>distance</th>\n",
       "      <th>cum_elevation</th>\n",
       "      <th>cum_distance</th>\n",
       "      <th>gradient</th>\n",
       "    </tr>\n",
       "  </thead>\n",
       "  <tbody>\n",
       "    <tr>\n",
       "      <th>0</th>\n",
       "      <td>45.772480</td>\n",
       "      <td>15.958040</td>\n",
       "      <td>113.96</td>\n",
       "      <td>0.00</td>\n",
       "      <td>0.00</td>\n",
       "      <td>0.00</td>\n",
       "      <td>0.00</td>\n",
       "      <td>0.00</td>\n",
       "    </tr>\n",
       "    <tr>\n",
       "      <th>1</th>\n",
       "      <td>45.772770</td>\n",
       "      <td>15.959090</td>\n",
       "      <td>115.82</td>\n",
       "      <td>1.86</td>\n",
       "      <td>87.59</td>\n",
       "      <td>1.86</td>\n",
       "      <td>87.59</td>\n",
       "      <td>2.12</td>\n",
       "    </tr>\n",
       "    <tr>\n",
       "      <th>2</th>\n",
       "      <td>45.773270</td>\n",
       "      <td>15.958795</td>\n",
       "      <td>116.15</td>\n",
       "      <td>0.33</td>\n",
       "      <td>60.12</td>\n",
       "      <td>2.19</td>\n",
       "      <td>147.71</td>\n",
       "      <td>0.55</td>\n",
       "    </tr>\n",
       "    <tr>\n",
       "      <th>3</th>\n",
       "      <td>45.773770</td>\n",
       "      <td>15.958500</td>\n",
       "      <td>116.12</td>\n",
       "      <td>-0.03</td>\n",
       "      <td>60.12</td>\n",
       "      <td>2.16</td>\n",
       "      <td>207.83</td>\n",
       "      <td>-0.05</td>\n",
       "    </tr>\n",
       "    <tr>\n",
       "      <th>4</th>\n",
       "      <td>45.774235</td>\n",
       "      <td>15.959335</td>\n",
       "      <td>115.98</td>\n",
       "      <td>-0.14</td>\n",
       "      <td>82.87</td>\n",
       "      <td>2.02</td>\n",
       "      <td>290.70</td>\n",
       "      <td>-0.17</td>\n",
       "    </tr>\n",
       "  </tbody>\n",
       "</table>\n",
       "</div>"
      ],
      "text/plain": [
       "    latitude  longitude  elevation  elevation_diff  distance  cum_elevation  \\\n",
       "0  45.772480  15.958040     113.96            0.00      0.00           0.00   \n",
       "1  45.772770  15.959090     115.82            1.86     87.59           1.86   \n",
       "2  45.773270  15.958795     116.15            0.33     60.12           2.19   \n",
       "3  45.773770  15.958500     116.12           -0.03     60.12           2.16   \n",
       "4  45.774235  15.959335     115.98           -0.14     82.87           2.02   \n",
       "\n",
       "   cum_distance  gradient  \n",
       "0          0.00      0.00  \n",
       "1         87.59      2.12  \n",
       "2        147.71      0.55  \n",
       "3        207.83     -0.05  \n",
       "4        290.70     -0.17  "
      ]
     },
     "execution_count": 12,
     "metadata": {},
     "output_type": "execute_result"
    }
   ],
   "source": [
    "route_df['gradient'] = route_df['gradient'].interpolate().fillna(0)\n",
    "\n",
    "route_df.head()"
   ]
  },
  {
   "cell_type": "markdown",
   "id": "ad379c75-ad70-4a3a-b353-41319f8da063",
   "metadata": {},
   "source": [
    "- One final check:"
   ]
  },
  {
   "cell_type": "code",
   "execution_count": 13,
   "id": "1b238783-2956-44f1-ad0c-c67ed425aec7",
   "metadata": {},
   "outputs": [
    {
     "data": {
      "image/png": "[encoded data removed]",
      "text/plain": [
       "<Figure size 1152x432 with 1 Axes>"
      ]
     },
     "metadata": {
      "needs_background": "light"
     },
     "output_type": "display_data"
    }
   ],
   "source": [
    "plt.title('Terrain gradient on the route', size=20)\n",
    "plt.xlabel('Data point', size=14)\n",
    "plt.ylabel('Gradient (%)', size=14)\n",
    "plt.plot(np.arange(len(route_df)), route_df['gradient'], lw=2, color='#101010');"
   ]
  },
  {
   "cell_type": "markdown",
   "id": "beaf2d5b-f68b-488f-ae09-93658013de09",
   "metadata": {},
   "source": [
    "- Everything looks good now, so we can save the dataset to a CSV file\n",
    "    - You'll need it in the upcoming notebooks:"
   ]
  },
  {
   "cell_type": "code",
   "execution_count": 14,
   "id": "c5a7607a-330d-4d1c-a354-f93c75188c25",
   "metadata": {},
   "outputs": [],
   "source": [
    "route_df.to_csv('../data/route_df_gradient.csv', index=False)"
   ]
  },
  {
   "cell_type": "markdown",
   "id": "31296b8a-1d33-4d34-8f7b-6941b84f0b8b",
   "metadata": {},
   "source": [
    "- In the next notebook, you'll learn how to analyze the gradient profile of a route\n",
    "- It will give you a deeper insight of distance cycled in different gradient ranges"
   ]
  }
 ],
 "metadata": {
  "kernelspec": {
   "display_name": "Python 3 (ipykernel)",
   "language": "python",
   "name": "python3"
  },
  "language_info": {
   "codemirror_mode": {
    "name": "ipython",
    "version": 3
   },
   "file_extension": ".py",
   "mimetype": "text/x-python",
   "name": "python",
   "nbconvert_exporter": "python",
   "pygments_lexer": "ipython3",
   "version": "3.9.7"
  }
 },
 "nbformat": 4,
 "nbformat_minor": 5
}
