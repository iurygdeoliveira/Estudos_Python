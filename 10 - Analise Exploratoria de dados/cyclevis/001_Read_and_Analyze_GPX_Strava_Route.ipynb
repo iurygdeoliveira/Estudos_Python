{
 "cells": [
  {
   "cell_type": "markdown",
   "id": "2ce70558-8243-4ff4-b548-6112b3f05537",
   "metadata": {},
   "source": [
    "# Data Science for Cycling #1 - How To Read GPX Strava Routes With Python\n",
    "- Notebook 1/6\n",
    "- Make sure to have `gpxpy` installed:\n",
    "<br>\n",
    "\n",
    "```\n",
    "pip install gpxpy\n",
    "```\n",
    "\n",
    "- Let's import the libraries and tweak Matplotlib's default stylings:"
   ]
  },
  {
   "cell_type": "code",
   "execution_count": 44,
   "id": "fd92ae56-c120-4081-96a8-958327826c26",
   "metadata": {},
   "outputs": [],
   "source": [
    "import gpxpy\n",
    "import gpxpy.gpx\n",
    "from datetime import datetime\n",
    "from pytz import timezone\n",
    "import elevation\n",
    "import geocoder\n",
    "\n",
    "import pandas as pd\n",
    "import matplotlib.pyplot as plt\n",
    "plt.rcParams['axes.spines.top'] = False\n",
    "plt.rcParams['axes.spines.right'] = False"
   ]
  },
  {
   "cell_type": "markdown",
   "id": "7ab807b5-13a5-40d9-a7b8-f62f6ef385c5",
   "metadata": {},
   "source": [
    "- You can read GPX files with Python's context manager syntax:"
   ]
  },
  {
   "cell_type": "markdown",
   "id": "483d3c00-01c2-4e47-bb14-2ce6b5c89df0",
   "metadata": {},
   "source": [
    "- It's a specific GPX object:"
   ]
  },
  {
   "cell_type": "code",
   "execution_count": 3,
   "id": "d521e73c-5f9f-48a4-a117-3b46da950e2e",
   "metadata": {},
   "outputs": [
    {
     "data": {
      "text/plain": [
       "GPX(tracks=[GPXTrack(segments=[GPXTrackSegment(points=[...])])])"
      ]
     },
     "execution_count": 3,
     "metadata": {},
     "output_type": "execute_result"
    }
   ],
   "source": [
    "gpx"
   ]
  },
  {
   "cell_type": "markdown",
   "id": "f82304af-1de4-43f5-b713-3714eaeb2073",
   "metadata": {},
   "source": [
    "- Get the number of data points (number of times geolocation was taken):"
   ]
  },
  {
   "cell_type": "code",
   "execution_count": 4,
   "id": "6a7272df-f0df-4025-b65c-dec0bdff4b1d",
   "metadata": {},
   "outputs": [
    {
     "data": {
      "text/plain": [
       "5994"
      ]
     },
     "execution_count": 4,
     "metadata": {},
     "output_type": "execute_result"
    }
   ],
   "source": [
    "gpx.get_track_points_no()"
   ]
  },
  {
   "cell_type": "markdown",
   "id": "d16ac89b-3049-4aa0-b4ce-d07cfd61c19a",
   "metadata": {},
   "source": [
    "- Get the minimum and maximum altitudes:"
   ]
  },
  {
   "cell_type": "code",
   "execution_count": 5,
   "id": "877183c5-51a8-474b-b3ea-f7fa18808694",
   "metadata": {},
   "outputs": [
    {
     "data": {
      "text/plain": [
       "MinimumMaximum(minimum=480.8, maximum=1659.9)"
      ]
     },
     "execution_count": 5,
     "metadata": {},
     "output_type": "execute_result"
    }
   ],
   "source": [
    "gpx.get_elevation_extremes()"
   ]
  },
  {
   "cell_type": "markdown",
   "id": "d1a08fcd-2315-408b-89fc-ced315f44126",
   "metadata": {},
   "source": [
    "- Get the number of meters of uphil and downhil ride\n",
    "- It's a roundtrip, so the numbers should be almost identical"
   ]
  },
  {
   "cell_type": "code",
   "execution_count": 6,
   "id": "1f774255-cf8c-4594-8a5d-6f2dde900c84",
   "metadata": {},
   "outputs": [
    {
     "data": {
      "text/plain": [
       "UphillDownhill(uphill=2953.5000000000055, downhill=2381.9000000000096)"
      ]
     },
     "execution_count": 6,
     "metadata": {},
     "output_type": "execute_result"
    }
   ],
   "source": [
    "gpx.get_uphill_downhill()"
   ]
  },
  {
   "cell_type": "markdown",
   "id": "e4e5027f-6f33-41af-9b88-1ad038e27082",
   "metadata": {},
   "source": [
    "- You can dump the entire GPX file to XML\n",
    "- Here are the first 1000 characters:"
   ]
  },
  {
   "cell_type": "code",
   "execution_count": 7,
   "id": "a0858ff9-8c98-4c5b-bc53-94da96050d44",
   "metadata": {},
   "outputs": [
    {
     "data": {
      "text/plain": [
       "'<?xml version=\"1.0\" encoding=\"UTF-8\"?>\\n<gpx xmlns=\"http://www.topografix.com/GPX/1/1\" xmlns:xsi=\"http://www.w3.org/2001/XMLSchema-instance\" xsi:schemaLocation=\"http://www.topografix.com/GPX/1/1 http://www.topografix.com/GPX/1/1/gpx.xsd\" version=\"1.1\" creator=\"StravaGPX\">\\n  <metadata>\\n    <time>2013-07-13T06:41:38Z</time>\\n  </metadata>\\n  <trk>\\n    <trkseg>\\n      <trkpt lat=\"46.363649\" lon=\"14.112036\">\\n        <ele>511.5</ele>\\n        <time>2013-07-13T06:41:38Z</time>\\n      </trkpt>\\n      <trkpt lat=\"46.363691\" lon=\"14.112026\">\\n        <ele>511.0</ele>\\n        <time>2013-07-13T06:41:39Z</time>\\n      </trkpt>\\n      <trkpt lat=\"46.363778\" lon=\"14.112031\">\\n        <ele>510.1</ele>\\n        <time>2013-07-13T06:41:41Z</time>\\n      </trkpt>\\n      <trkpt lat=\"46.363835\" lon=\"14.112023\">\\n        <ele>509.7</ele>\\n        <time>2013-07-13T06:41:43Z</time>\\n      </trkpt>\\n      <trkpt lat=\"46.363888\" lon=\"14.112007\">\\n        <ele>509.4</ele>\\n        <time>2013-07-13T06:41:45Z</time>\\n      </trkpt>\\n  '"
      ]
     },
     "execution_count": 7,
     "metadata": {},
     "output_type": "execute_result"
    }
   ],
   "source": [
    "gpx.to_xml()[:1000]"
   ]
  },
  {
   "cell_type": "markdown",
   "id": "321d8e18-43c5-48f8-9aca-18745633f886",
   "metadata": {},
   "source": [
    "<br>\n",
    "\n",
    "## Basic analysis\n",
    "- There's only one track available in the file\n",
    "- Access it with Python's list indexing syntax:"
   ]
  },
  {
   "cell_type": "code",
   "execution_count": 8,
   "id": "f17aa437-8c29-4be8-9b73-09aacb2bbcf5",
   "metadata": {},
   "outputs": [
    {
     "data": {
      "text/plain": [
       "GPXTrack(segments=[GPXTrackSegment(points=[...])])"
      ]
     },
     "execution_count": 8,
     "metadata": {},
     "output_type": "execute_result"
    }
   ],
   "source": [
    "gpx.tracks[0]"
   ]
  },
  {
   "cell_type": "markdown",
   "id": "1c017826-2595-490f-89fc-fd503d84250c",
   "metadata": {},
   "source": [
    "- The track has only one segment - access it the same way:"
   ]
  },
  {
   "cell_type": "code",
   "execution_count": 9,
   "id": "7c7b5f59-e86f-493a-b67b-c89ab4620904",
   "metadata": {},
   "outputs": [
    {
     "data": {
      "text/plain": [
       "GPXTrackSegment(points=[...])"
      ]
     },
     "execution_count": 9,
     "metadata": {},
     "output_type": "execute_result"
    }
   ],
   "source": [
    "gpx.tracks[0].segments[0]"
   ]
  },
  {
   "cell_type": "markdown",
   "id": "fc95d72d-6a96-48a0-9c62-670ee87aa8f3",
   "metadata": {},
   "source": [
    "- The segment has 835 data points\n",
    "- Here are the first 10:"
   ]
  },
  {
   "cell_type": "code",
   "execution_count": 10,
   "id": "c7a5c1f9-735a-4d50-acd3-b2f6146e0c87",
   "metadata": {},
   "outputs": [
    {
     "data": {
      "text/plain": [
       "[GPXTrackPoint(46.363649, 14.112036, elevation=511.5, time=datetime.datetime(2013, 7, 13, 6, 41, 38, tzinfo=SimpleTZ(\"Z\"))),\n",
       " GPXTrackPoint(46.363691, 14.112026, elevation=511.0, time=datetime.datetime(2013, 7, 13, 6, 41, 39, tzinfo=SimpleTZ(\"Z\"))),\n",
       " GPXTrackPoint(46.363778, 14.112031, elevation=510.1, time=datetime.datetime(2013, 7, 13, 6, 41, 41, tzinfo=SimpleTZ(\"Z\"))),\n",
       " GPXTrackPoint(46.363835, 14.112023, elevation=509.7, time=datetime.datetime(2013, 7, 13, 6, 41, 43, tzinfo=SimpleTZ(\"Z\"))),\n",
       " GPXTrackPoint(46.363888, 14.112007, elevation=509.4, time=datetime.datetime(2013, 7, 13, 6, 41, 45, tzinfo=SimpleTZ(\"Z\"))),\n",
       " GPXTrackPoint(46.363943, 14.111994, elevation=509.0, time=datetime.datetime(2013, 7, 13, 6, 41, 47, tzinfo=SimpleTZ(\"Z\"))),\n",
       " GPXTrackPoint(46.363987, 14.111986, elevation=508.7, time=datetime.datetime(2013, 7, 13, 6, 41, 49, tzinfo=SimpleTZ(\"Z\"))),\n",
       " GPXTrackPoint(46.364034, 14.11198, elevation=508.4, time=datetime.datetime(2013, 7, 13, 6, 41, 51, tzinfo=SimpleTZ(\"Z\"))),\n",
       " GPXTrackPoint(46.364081, 14.111971, elevation=508.1, time=datetime.datetime(2013, 7, 13, 6, 41, 53, tzinfo=SimpleTZ(\"Z\"))),\n",
       " GPXTrackPoint(46.364131, 14.111971, elevation=507.7, time=datetime.datetime(2013, 7, 13, 6, 41, 55, tzinfo=SimpleTZ(\"Z\")))]"
      ]
     },
     "execution_count": 10,
     "metadata": {},
     "output_type": "execute_result"
    }
   ],
   "source": [
    "gpx.tracks[0].segments[0].points[:10]"
   ]
  },
  {
   "cell_type": "markdown",
   "id": "9e361b78-d193-4677-9faa-98af2166d24c",
   "metadata": {},
   "source": [
    "- Let's now extract all dat apoints\n",
    "- Store latitude, longitude, and elevation as a list of dicts"
   ]
  },
  {
   "cell_type": "code",
   "execution_count": 17,
   "id": "a0ead523-faaf-4587-be3a-a9982066bef4",
   "metadata": {},
   "outputs": [],
   "source": [
    "route_info = []\n",
    "\n",
    "for track in gpx.tracks:\n",
    "    for segment in track.segments:\n",
    "        for point in segment.points:\n",
    "            route_info.append({\n",
    "                'latitude': point.latitude,\n",
    "                'longitude': point.longitude,\n",
    "                'elevation': point.elevation\n",
    "            })"
   ]
  },
  {
   "cell_type": "code",
   "execution_count": 18,
   "id": "71d033ad-2998-415b-ab5a-fa42b0dfc959",
   "metadata": {},
   "outputs": [
    {
     "data": {
      "text/plain": [
       "[{'latitude': 46.363649, 'longitude': 14.112036, 'elevation': 511.5},\n",
       " {'latitude': 46.363691, 'longitude': 14.112026, 'elevation': 511.0},\n",
       " {'latitude': 46.363778, 'longitude': 14.112031, 'elevation': 510.1}]"
      ]
     },
     "execution_count": 18,
     "metadata": {},
     "output_type": "execute_result"
    }
   ],
   "source": [
    "route_info[:3]"
   ]
  },
  {
   "cell_type": "markdown",
   "id": "be715000-2a30-4373-b8bc-51c15abb3e98",
   "metadata": {},
   "source": [
    "- Convert it to Pandas DataFrame for faster and easier analysis"
   ]
  },
  {
   "cell_type": "code",
   "execution_count": 19,
   "id": "939968ff-e834-4603-b39e-6ebab08958aa",
   "metadata": {},
   "outputs": [
    {
     "data": {
      "text/html": [
       "<div>\n",
       "<style scoped>\n",
       "    .dataframe tbody tr th:only-of-type {\n",
       "        vertical-align: middle;\n",
       "    }\n",
       "\n",
       "    .dataframe tbody tr th {\n",
       "        vertical-align: top;\n",
       "    }\n",
       "\n",
       "    .dataframe thead th {\n",
       "        text-align: right;\n",
       "    }\n",
       "</style>\n",
       "<table border=\"1\" class=\"dataframe\">\n",
       "  <thead>\n",
       "    <tr style=\"text-align: right;\">\n",
       "      <th></th>\n",
       "      <th>latitude</th>\n",
       "      <th>longitude</th>\n",
       "      <th>elevation</th>\n",
       "    </tr>\n",
       "  </thead>\n",
       "  <tbody>\n",
       "    <tr>\n",
       "      <th>0</th>\n",
       "      <td>46.363649</td>\n",
       "      <td>14.112036</td>\n",
       "      <td>511.5</td>\n",
       "    </tr>\n",
       "    <tr>\n",
       "      <th>1</th>\n",
       "      <td>46.363691</td>\n",
       "      <td>14.112026</td>\n",
       "      <td>511.0</td>\n",
       "    </tr>\n",
       "    <tr>\n",
       "      <th>2</th>\n",
       "      <td>46.363778</td>\n",
       "      <td>14.112031</td>\n",
       "      <td>510.1</td>\n",
       "    </tr>\n",
       "    <tr>\n",
       "      <th>3</th>\n",
       "      <td>46.363835</td>\n",
       "      <td>14.112023</td>\n",
       "      <td>509.7</td>\n",
       "    </tr>\n",
       "    <tr>\n",
       "      <th>4</th>\n",
       "      <td>46.363888</td>\n",
       "      <td>14.112007</td>\n",
       "      <td>509.4</td>\n",
       "    </tr>\n",
       "  </tbody>\n",
       "</table>\n",
       "</div>"
      ],
      "text/plain": [
       "    latitude  longitude  elevation\n",
       "0  46.363649  14.112036      511.5\n",
       "1  46.363691  14.112026      511.0\n",
       "2  46.363778  14.112031      510.1\n",
       "3  46.363835  14.112023      509.7\n",
       "4  46.363888  14.112007      509.4"
      ]
     },
     "execution_count": 19,
     "metadata": {},
     "output_type": "execute_result"
    }
   ],
   "source": [
    "route_df = pd.DataFrame(route_info)\n",
    "route_df.head()"
   ]
  },
  {
   "cell_type": "markdown",
   "id": "d325daf4-9057-4705-83ee-096467891134",
   "metadata": {},
   "source": [
    "- Save it to CSV for later use:"
   ]
  },
  {
   "cell_type": "code",
   "execution_count": 21,
   "id": "6121d955-82a8-41ac-b51c-b7a5c599b6ec",
   "metadata": {},
   "outputs": [],
   "source": [
    "route_df.to_csv('route_df.csv', index=False)"
   ]
  },
  {
   "cell_type": "markdown",
   "id": "fe96a890-5947-48c5-894a-eb5889bf22b5",
   "metadata": {},
   "source": [
    "<br>\n",
    "\n",
    "## Basic visualization\n",
    "- You can use matplotlib to visualize all data points\n",
    "- It won't show the map, but you should still see how the route looks like:"
   ]
  },
  {
   "cell_type": "code",
   "execution_count": 22,
   "id": "56d0931e-a147-47cc-9772-036b01bee8db",
   "metadata": {},
   "outputs": [
    {
     "data": {
      "image/png": "[encoded data removed]",
      "text/plain": [
       "<Figure size 1008x576 with 1 Axes>"
      ]
     },
     "metadata": {
      "needs_background": "light"
     },
     "output_type": "display_data"
    }
   ],
   "source": [
    "plt.figure(figsize=(14, 8))\n",
    "plt.scatter(route_df['longitude'], route_df['latitude'], color='#101010')\n",
    "plt.title('Route latitude and longitude points', size=20);"
   ]
  },
  {
   "cell_type": "markdown",
   "id": "5f91006b-b7f5-4c28-9c46-10482c8871a7",
   "metadata": {},
   "source": [
    "- You'll see in the following notebook how to visualize the route on a map with Folium"
   ]
  }
 ],
 "metadata": {
  "kernelspec": {
   "display_name": "Python 3",
   "language": "python",
   "name": "python3"
  },
  "language_info": {
   "codemirror_mode": {
    "name": "ipython",
    "version": 3
   },
   "file_extension": ".py",
   "mimetype": "text/x-python",
   "name": "python",
   "nbconvert_exporter": "python",
   "pygments_lexer": "ipython3",
   "version": "3.8.8"
  }
 },
 "nbformat": 4,
 "nbformat_minor": 5
}
