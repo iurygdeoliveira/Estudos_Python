{
 "cells": [
  {
   "cell_type": "markdown",
   "metadata": {},
   "source": [
    "# <font color='blue'>Atividade Machine Learning</font>\n",
    "\n",
    "# <font color='blue'>Estudando o KNN - Aprendizado Baseado em Instâncias</font>"
   ]
  },
  {
   "cell_type": "markdown",
   "metadata": {},
   "source": [
    "# 1º Síntese sobre o KNN com Séries Temporais"
   ]
  },
  {
   "cell_type": "markdown",
   "metadata": {},
   "source": [
    "As séries temporais são um dos tipos mais comuns de dados sequenciais e consistem em observações ao longo do tempo. "
   ]
  },
  {
   "cell_type": "markdown",
   "metadata": {},
   "source": [
    "O KNN é um dos algoritmos de aprendizado supervisionado do paradigma baseado em exemplos que visa encontrar,\n",
    "segundo alguma medida de similaridade, os k exemplos mais próximos de um exemplo ainda não rotulado e,\n",
    "baseado nos rótulos desses k exemplos próximos, rotular o novo exemplo.\n"
   ]
  },
  {
   "cell_type": "markdown",
   "metadata": {},
   "source": [
    "Assim, se k=1 o novo exemplo será classificado como pertencente à mesma classe do único exemplo mais\n",
    "próximo de acordo com a medida de similaridade. \n",
    "Diferentemente, se forem considerados k > 1 vizinhos, por exemplo, k = 3, a classe predominantes dos três exemplos mais próximos será atribuída ao novo exemplo. "
   ]
  },
  {
   "cell_type": "markdown",
   "metadata": {},
   "source": [
    "Portanto, verifica-se que o valor do parâmetro k é particular a cada problema e estimá-lo incide em uma tarefa delicada que merece especial atenção, o valor de k determinará como o novo exemplo será classificado."
   ]
  },
  {
   "cell_type": "markdown",
   "metadata": {},
   "source": [
    "O algoritmo KNN aplicado em séries temporais, é uma modificação do KNN original, essa adaptação permite realizar a predição de valores futuros com base na exploração das observações da série histórica."
   ]
  },
  {
   "cell_type": "markdown",
   "metadata": {},
   "source": [
    "# 2º Selecionando o Dataset"
   ]
  },
  {
   "cell_type": "code",
   "execution_count": 19,
   "metadata": {},
   "outputs": [],
   "source": [
    "import h5py\n",
    "import numpy as np\n",
    "import pandas as pd\n",
    "\n",
    "dataset = pd.read_csv('cleanDS.csv')"
   ]
  },
  {
   "cell_type": "markdown",
   "metadata": {},
   "source": [
    "# 3º Explorando os Dados"
   ]
  },
  {
   "cell_type": "code",
   "execution_count": 20,
   "metadata": {},
   "outputs": [
    {
     "data": {
      "text/html": [
       "<div>\n",
       "<style scoped>\n",
       "    .dataframe tbody tr th:only-of-type {\n",
       "        vertical-align: middle;\n",
       "    }\n",
       "\n",
       "    .dataframe tbody tr th {\n",
       "        vertical-align: top;\n",
       "    }\n",
       "\n",
       "    .dataframe thead th {\n",
       "        text-align: right;\n",
       "    }\n",
       "</style>\n",
       "<table border=\"1\" class=\"dataframe\">\n",
       "  <thead>\n",
       "    <tr style=\"text-align: right;\">\n",
       "      <th></th>\n",
       "      <th>cpf</th>\n",
       "      <th>sexo</th>\n",
       "      <th>salario</th>\n",
       "      <th>estado</th>\n",
       "      <th>poupanca</th>\n",
       "      <th>altura</th>\n",
       "      <th>peso</th>\n",
       "      <th>total.emprestimo</th>\n",
       "      <th>financiamento</th>\n",
       "    </tr>\n",
       "  </thead>\n",
       "  <tbody>\n",
       "    <tr>\n",
       "      <th>0</th>\n",
       "      <td>741132012</td>\n",
       "      <td>M</td>\n",
       "      <td>5124.00</td>\n",
       "      <td>MA</td>\n",
       "      <td>-1000.00</td>\n",
       "      <td>1.93</td>\n",
       "      <td>85.62</td>\n",
       "      <td>0.00</td>\n",
       "      <td>S</td>\n",
       "    </tr>\n",
       "    <tr>\n",
       "      <th>1</th>\n",
       "      <td>246313939</td>\n",
       "      <td>F</td>\n",
       "      <td>4772.45</td>\n",
       "      <td>SP</td>\n",
       "      <td>15012.90</td>\n",
       "      <td>1.84</td>\n",
       "      <td>99.12</td>\n",
       "      <td>NaN</td>\n",
       "      <td>S</td>\n",
       "    </tr>\n",
       "    <tr>\n",
       "      <th>2</th>\n",
       "      <td>431872706</td>\n",
       "      <td>F</td>\n",
       "      <td>5001.80</td>\n",
       "      <td>BA</td>\n",
       "      <td>0.00</td>\n",
       "      <td>1.66</td>\n",
       "      <td>104.39</td>\n",
       "      <td>0.00</td>\n",
       "      <td>N</td>\n",
       "    </tr>\n",
       "    <tr>\n",
       "      <th>3</th>\n",
       "      <td>127070574</td>\n",
       "      <td>F</td>\n",
       "      <td>5279.32</td>\n",
       "      <td>DF</td>\n",
       "      <td>0.00</td>\n",
       "      <td>1.73</td>\n",
       "      <td>72.57</td>\n",
       "      <td>0.00</td>\n",
       "      <td>S</td>\n",
       "    </tr>\n",
       "    <tr>\n",
       "      <th>4</th>\n",
       "      <td>620680270</td>\n",
       "      <td>M</td>\n",
       "      <td>5327.52</td>\n",
       "      <td>RS</td>\n",
       "      <td>8172.68</td>\n",
       "      <td>2.05</td>\n",
       "      <td>97.89</td>\n",
       "      <td>0.00</td>\n",
       "      <td>S</td>\n",
       "    </tr>\n",
       "    <tr>\n",
       "      <th>...</th>\n",
       "      <td>...</td>\n",
       "      <td>...</td>\n",
       "      <td>...</td>\n",
       "      <td>...</td>\n",
       "      <td>...</td>\n",
       "      <td>...</td>\n",
       "      <td>...</td>\n",
       "      <td>...</td>\n",
       "      <td>...</td>\n",
       "    </tr>\n",
       "    <tr>\n",
       "      <th>205</th>\n",
       "      <td>132343102</td>\n",
       "      <td>M</td>\n",
       "      <td>4610.80</td>\n",
       "      <td>SC</td>\n",
       "      <td>15116.02</td>\n",
       "      <td>1.62</td>\n",
       "      <td>103.20</td>\n",
       "      <td>461.08</td>\n",
       "      <td>N</td>\n",
       "    </tr>\n",
       "    <tr>\n",
       "      <th>206</th>\n",
       "      <td>792789534</td>\n",
       "      <td>M</td>\n",
       "      <td>5489.12</td>\n",
       "      <td>RN</td>\n",
       "      <td>14428.67</td>\n",
       "      <td>1.44</td>\n",
       "      <td>56.38</td>\n",
       "      <td>0.00</td>\n",
       "      <td>N</td>\n",
       "    </tr>\n",
       "    <tr>\n",
       "      <th>207</th>\n",
       "      <td>813971610</td>\n",
       "      <td>M</td>\n",
       "      <td>4525.37</td>\n",
       "      <td>PB</td>\n",
       "      <td>-1000.00</td>\n",
       "      <td>1.56</td>\n",
       "      <td>129.89</td>\n",
       "      <td>452.54</td>\n",
       "      <td>N</td>\n",
       "    </tr>\n",
       "    <tr>\n",
       "      <th>208</th>\n",
       "      <td>839747002</td>\n",
       "      <td>M</td>\n",
       "      <td>4297.15</td>\n",
       "      <td>MA</td>\n",
       "      <td>5542.76</td>\n",
       "      <td>2.10</td>\n",
       "      <td>106.36</td>\n",
       "      <td>0.00</td>\n",
       "      <td>N</td>\n",
       "    </tr>\n",
       "    <tr>\n",
       "      <th>209</th>\n",
       "      <td>844339630</td>\n",
       "      <td>F</td>\n",
       "      <td>4601.64</td>\n",
       "      <td>RS</td>\n",
       "      <td>0.00</td>\n",
       "      <td>2.08</td>\n",
       "      <td>106.92</td>\n",
       "      <td>460.16</td>\n",
       "      <td>N</td>\n",
       "    </tr>\n",
       "  </tbody>\n",
       "</table>\n",
       "<p>210 rows × 9 columns</p>\n",
       "</div>"
      ],
      "text/plain": [
       "           cpf sexo  salario estado  poupanca  altura    peso  \\\n",
       "0    741132012    M  5124.00     MA  -1000.00    1.93   85.62   \n",
       "1    246313939    F  4772.45     SP  15012.90    1.84   99.12   \n",
       "2    431872706    F  5001.80     BA      0.00    1.66  104.39   \n",
       "3    127070574    F  5279.32     DF      0.00    1.73   72.57   \n",
       "4    620680270    M  5327.52     RS   8172.68    2.05   97.89   \n",
       "..         ...  ...      ...    ...       ...     ...     ...   \n",
       "205  132343102    M  4610.80     SC  15116.02    1.62  103.20   \n",
       "206  792789534    M  5489.12     RN  14428.67    1.44   56.38   \n",
       "207  813971610    M  4525.37     PB  -1000.00    1.56  129.89   \n",
       "208  839747002    M  4297.15     MA   5542.76    2.10  106.36   \n",
       "209  844339630    F  4601.64     RS      0.00    2.08  106.92   \n",
       "\n",
       "     total.emprestimo financiamento  \n",
       "0                0.00             S  \n",
       "1                 NaN             S  \n",
       "2                0.00             N  \n",
       "3                0.00             S  \n",
       "4                0.00             S  \n",
       "..                ...           ...  \n",
       "205            461.08             N  \n",
       "206              0.00             N  \n",
       "207            452.54             N  \n",
       "208              0.00             N  \n",
       "209            460.16             N  \n",
       "\n",
       "[210 rows x 9 columns]"
      ]
     },
     "execution_count": 20,
     "metadata": {},
     "output_type": "execute_result"
    }
   ],
   "source": [
    "dataset"
   ]
  },
  {
   "cell_type": "markdown",
   "metadata": {},
   "source": [
    "# 4º Preparando os Dados"
   ]
  },
  {
   "cell_type": "markdown",
   "metadata": {},
   "source": [
    "# 5º Modelagem dos Dados"
   ]
  },
  {
   "cell_type": "markdown",
   "metadata": {},
   "source": [
    "# 6º Avaliação dos Dados"
   ]
  },
  {
   "cell_type": "markdown",
   "metadata": {},
   "source": [
    "# 7º Deploy"
   ]
  },
  {
   "cell_type": "code",
   "execution_count": 2,
   "metadata": {},
   "outputs": [],
   "source": [
    "# Carrega os pacotes\n",
    "import numpy as np\n",
    "import pandas as pd\n",
    "import matplotlib.pyplot as plt\n",
    "import sklearn\n",
    "import sklearn.datasets\n",
    "import sklearn.model_selection\n",
    "import sklearn.decomposition\n",
    "import sklearn.model_selection\n",
    "import sklearn.neighbors\n",
    "import sklearn.metrics"
   ]
  },
  {
   "cell_type": "code",
   "execution_count": 3,
   "metadata": {
    "collapsed": true
   },
   "outputs": [],
   "source": [
    "# Gera o dataset\n",
    "digitos = sklearn.datasets.load_digits()"
   ]
  },
  {
   "cell_type": "code",
   "execution_count": 4,
   "metadata": {},
   "outputs": [
    {
     "data": {
      "text/plain": [
       "<matplotlib.figure.Figure at 0x11be96518>"
      ]
     },
     "metadata": {},
     "output_type": "display_data"
    },
    {
     "data": {
      "image/png": "[encoded data removed]",
      "text/plain": [
       "<matplotlib.figure.Figure at 0x11be964e0>"
      ]
     },
     "metadata": {},
     "output_type": "display_data"
    }
   ],
   "source": [
    "# Plot de um dos itens do dataset\n",
    "plt.gray() \n",
    "plt.matshow(digitos.images[2]) \n",
    "plt.show() "
   ]
  },
  {
   "cell_type": "code",
   "execution_count": 5,
   "metadata": {
    "collapsed": true
   },
   "outputs": [],
   "source": [
    "# Gera X e Y\n",
    "X = digitos.data\n",
    "Y = digitos.target"
   ]
  },
  {
   "cell_type": "code",
   "execution_count": 6,
   "metadata": {},
   "outputs": [
    {
     "name": "stdout",
     "output_type": "stream",
     "text": [
      "(1797, 64) (1797,)\n"
     ]
    }
   ],
   "source": [
    "# Formato de X e Y\n",
    "print(X.shape, Y.shape)"
   ]
  },
  {
   "cell_type": "code",
   "execution_count": 7,
   "metadata": {},
   "outputs": [],
   "source": [
    "# Cross Validation para gerar os datasets de treino e de teste\n",
    "X_treino, X_teste, Y_treino, Y_teste = sklearn.model_selection.train_test_split (X, Y, \n",
    "                                                                                  test_size = 0.33, \n",
    "                                                                                  random_state = 101)"
   ]
  },
  {
   "cell_type": "code",
   "execution_count": 8,
   "metadata": {},
   "outputs": [],
   "source": [
    "# Normalização dos dados pela Média\n",
    "\n",
    "# Cálculo da média do dataset de treino\n",
    "X_norm = np.mean(X_treino, axis = 0)\n",
    "\n",
    "# Normalização dos dados de treino e de teste\n",
    "X_treino_norm = X_treino - X_norm\n",
    "X_teste_norm = X_teste - X_norm"
   ]
  },
  {
   "cell_type": "code",
   "execution_count": 9,
   "metadata": {},
   "outputs": [
    {
     "name": "stdout",
     "output_type": "stream",
     "text": [
      "(1203, 64) (594, 64) (1203,) (594,)\n"
     ]
    }
   ],
   "source": [
    "# Shape dos datasets\n",
    "print(X_treino_norm.shape, X_teste_norm.shape, Y_treino.shape, Y_teste.shape)"
   ]
  },
  {
   "cell_type": "code",
   "execution_count": 10,
   "metadata": {},
   "outputs": [],
   "source": [
    "# Single Value Decompositon (SVD) - Redução de Dimensionalidade\n",
    "# Redução de Componentes Linear, similar ao PCA\n",
    "svd = sklearn.decomposition.TruncatedSVD(n_components = 2)\n",
    "X_2d = svd.fit_transform(X_treino_norm)"
   ]
  },
  {
   "cell_type": "code",
   "execution_count": 11,
   "metadata": {},
   "outputs": [
    {
     "data": {
      "image/png": "[encoded data removed]",
      "text/plain": [
       "<matplotlib.figure.Figure at 0x11be96b70>"
      ]
     },
     "metadata": {},
     "output_type": "display_data"
    }
   ],
   "source": [
    "# Plot dos 2 primeiros Componentes Principais\n",
    "plt.scatter(X_2d[:,0], X_2d[:,1], c = Y_treino, s = 50, cmap = plt.cm.Paired)\n",
    "plt.colorbar()\n",
    "plt.xlabel('PC1')\n",
    "plt.ylabel('PC2')\n",
    "plt.title('Primeiros 2 Componentes Principais')\n",
    "plt.show()"
   ]
  },
  {
   "cell_type": "code",
   "execution_count": 12,
   "metadata": {
    "collapsed": true
   },
   "outputs": [],
   "source": [
    "# Função para testar o melhor valor de K\n",
    "def compute_teste (x_teste, y_teste, clf, cv):\n",
    "    KFolds = sklearn.model_selection.KFold(n_splits = cv)\n",
    "    \n",
    "    scores = []\n",
    "    \n",
    "    for i, j in KFolds.split(x_teste):\n",
    "        test_set = x_teste[j]\n",
    "        test_labels = y_teste[j]\n",
    "        scores.append(sklearn.metrics.accuracy_score(test_labels, clf.predict(test_set)))\n",
    "    return scores"
   ]
  },
  {
   "cell_type": "code",
   "execution_count": 13,
   "metadata": {
    "collapsed": true
   },
   "outputs": [],
   "source": [
    "# Definição de parâmetros\n",
    "k = np.arange(20) + 1\n",
    "parametros = {'n_neighbors':k}"
   ]
  },
  {
   "cell_type": "code",
   "execution_count": 14,
   "metadata": {},
   "outputs": [],
   "source": [
    "# Construção do Modelo KNN\n",
    "# http://scikit-learn.org/stable/modules/generated/sklearn.neighbors.KNeighborsClassifier.html\n",
    "modelo = sklearn.neighbors.KNeighborsClassifier()"
   ]
  },
  {
   "cell_type": "code",
   "execution_count": 15,
   "metadata": {},
   "outputs": [
    {
     "data": {
      "text/plain": [
       "<bound method BaseEstimator.get_params of KNeighborsClassifier(algorithm='auto', leaf_size=30, metric='minkowski',\n",
       "           metric_params=None, n_jobs=1, n_neighbors=5, p=2,\n",
       "           weights='uniform')>"
      ]
     },
     "execution_count": 15,
     "metadata": {},
     "output_type": "execute_result"
    }
   ],
   "source": [
    "modelo.get_params"
   ]
  },
  {
   "cell_type": "code",
   "execution_count": 16,
   "metadata": {},
   "outputs": [],
   "source": [
    "# Grid Search para Cross Validation com o melhor valor de K\n",
    "modeloKNN = sklearn.model_selection.GridSearchCV(modelo, parametros, cv = 10)"
   ]
  },
  {
   "cell_type": "code",
   "execution_count": 17,
   "metadata": {},
   "outputs": [
    {
     "data": {
      "text/plain": [
       "<bound method BaseEstimator.get_params of GridSearchCV(cv=10, error_score='raise',\n",
       "       estimator=KNeighborsClassifier(algorithm='auto', leaf_size=30, metric='minkowski',\n",
       "           metric_params=None, n_jobs=1, n_neighbors=5, p=2,\n",
       "           weights='uniform'),\n",
       "       fit_params={}, iid=True, n_jobs=1,\n",
       "       param_grid={'n_neighbors': array([ 1,  2,  3,  4,  5,  6,  7,  8,  9, 10, 11, 12, 13, 14, 15, 16, 17,\n",
       "       18, 19, 20])},\n",
       "       pre_dispatch='2*n_jobs', refit=True, return_train_score=True,\n",
       "       scoring=None, verbose=0)>"
      ]
     },
     "execution_count": 17,
     "metadata": {},
     "output_type": "execute_result"
    }
   ],
   "source": [
    "modeloKNN.get_params"
   ]
  },
  {
   "cell_type": "code",
   "execution_count": 18,
   "metadata": {
    "collapsed": true
   },
   "outputs": [],
   "source": [
    "# Listas vazias que vão receber os scrores de acurária e os parâmetros resultados do modelo\n",
    "acuracia = []\n",
    "params = []"
   ]
  },
  {
   "cell_type": "code",
   "execution_count": 19,
   "metadata": {
    "collapsed": true
   },
   "outputs": [],
   "source": [
    "# Lista de dimensões\n",
    "dimensoes = [1, 2, 3, 4, 5, 6, 7, 8, 9, 10]"
   ]
  },
  {
   "cell_type": "code",
   "execution_count": 20,
   "metadata": {},
   "outputs": [],
   "source": [
    "# Implementação do modelo\n",
    "for d in dimensoes:\n",
    "    svd = sklearn.decomposition.TruncatedSVD(n_components = d)\n",
    "    \n",
    "    if d < 64:\n",
    "        X_fit_treino = svd.fit_transform(X_treino)\n",
    "        X_fit_teste = svd.transform(X_teste)\n",
    "    else:\n",
    "        X_nl = X_treino\n",
    "        X_nl1 = X_teste\n",
    "        \n",
    "    modeloKNN.fit(X_fit_treino, Y_treino)\n",
    "    \n",
    "    acuracia.append(compute_teste(x_teste = X_fit_teste, y_teste = Y_teste, clf = modeloKNN, cv = 10))\n",
    "    params.append(modeloKNN.best_params_['n_neighbors'])"
   ]
  },
  {
   "cell_type": "code",
   "execution_count": 21,
   "metadata": {},
   "outputs": [
    {
     "data": {
      "text/plain": [
       "[[0.18333333333333332,\n",
       "  0.083333333333333329,\n",
       "  0.16666666666666666,\n",
       "  0.13333333333333333,\n",
       "  0.1864406779661017,\n",
       "  0.10169491525423729,\n",
       "  0.13559322033898305,\n",
       "  0.10169491525423729,\n",
       "  0.067796610169491525,\n",
       "  0.15254237288135594],\n",
       " [0.48333333333333334,\n",
       "  0.40000000000000002,\n",
       "  0.41666666666666669,\n",
       "  0.31666666666666665,\n",
       "  0.38983050847457629,\n",
       "  0.40677966101694918,\n",
       "  0.4576271186440678,\n",
       "  0.5423728813559322,\n",
       "  0.30508474576271188,\n",
       "  0.38983050847457629],\n",
       " [0.68333333333333335,\n",
       "  0.68333333333333335,\n",
       "  0.6333333333333333,\n",
       "  0.66666666666666663,\n",
       "  0.61016949152542377,\n",
       "  0.57627118644067798,\n",
       "  0.74576271186440679,\n",
       "  0.67796610169491522,\n",
       "  0.61016949152542377,\n",
       "  0.64406779661016944],\n",
       " [0.81666666666666665,\n",
       "  0.81666666666666665,\n",
       "  0.75,\n",
       "  0.76666666666666672,\n",
       "  0.76271186440677963,\n",
       "  0.72881355932203384,\n",
       "  0.86440677966101698,\n",
       "  0.84745762711864403,\n",
       "  0.69491525423728817,\n",
       "  0.81355932203389836],\n",
       " [0.91666666666666663,\n",
       "  0.84999999999999998,\n",
       "  0.83333333333333337,\n",
       "  0.8666666666666667,\n",
       "  0.83050847457627119,\n",
       "  0.81355932203389836,\n",
       "  0.9152542372881356,\n",
       "  0.86440677966101698,\n",
       "  0.79661016949152541,\n",
       "  0.96610169491525422],\n",
       " [0.93333333333333335,\n",
       "  0.96666666666666667,\n",
       "  0.98333333333333328,\n",
       "  0.90000000000000002,\n",
       "  0.93220338983050843,\n",
       "  0.96610169491525422,\n",
       "  0.98305084745762716,\n",
       "  0.86440677966101698,\n",
       "  0.84745762711864403,\n",
       "  0.96610169491525422],\n",
       " [0.96666666666666667,\n",
       "  0.96666666666666667,\n",
       "  0.93333333333333335,\n",
       "  0.8833333333333333,\n",
       "  0.86440677966101698,\n",
       "  0.96610169491525422,\n",
       "  0.96610169491525422,\n",
       "  0.94915254237288138,\n",
       "  0.86440677966101698,\n",
       "  0.98305084745762716],\n",
       " [0.96666666666666667,\n",
       "  0.91666666666666663,\n",
       "  0.94999999999999996,\n",
       "  0.91666666666666663,\n",
       "  0.94915254237288138,\n",
       "  0.94915254237288138,\n",
       "  0.98305084745762716,\n",
       "  0.89830508474576276,\n",
       "  0.86440677966101698,\n",
       "  0.98305084745762716],\n",
       " [0.98333333333333328,\n",
       "  0.96666666666666667,\n",
       "  0.93333333333333335,\n",
       "  0.93333333333333335,\n",
       "  0.93220338983050843,\n",
       "  0.98305084745762716,\n",
       "  0.98305084745762716,\n",
       "  0.93220338983050843,\n",
       "  0.94915254237288138,\n",
       "  0.98305084745762716],\n",
       " [1.0,\n",
       "  0.98333333333333328,\n",
       "  0.93333333333333335,\n",
       "  0.90000000000000002,\n",
       "  0.96610169491525422,\n",
       "  1.0,\n",
       "  1.0,\n",
       "  0.94915254237288138,\n",
       "  0.94915254237288138,\n",
       "  0.96610169491525422]]"
      ]
     },
     "execution_count": 21,
     "metadata": {},
     "output_type": "execute_result"
    }
   ],
   "source": [
    "# A acurácia aumenta à medida que usamos mais dimensões para o modelo de classificação\n",
    "acuracia"
   ]
  },
  {
   "cell_type": "markdown",
   "metadata": {},
   "source": [
    "## Alterando Parâmetros do Modelo"
   ]
  },
  {
   "cell_type": "code",
   "execution_count": 22,
   "metadata": {},
   "outputs": [],
   "source": [
    "# Alterando parâmetros do modelo\n",
    "modelo_v2 = sklearn.neighbors.KNeighborsClassifier(metric = 'hamming')\n",
    "modeloKNN_v2 = sklearn.model_selection.GridSearchCV(modeloKNN, parametros, cv = 10)"
   ]
  },
  {
   "cell_type": "code",
   "execution_count": 23,
   "metadata": {},
   "outputs": [
    {
     "data": {
      "text/plain": [
       "<bound method BaseEstimator.get_params of KNeighborsClassifier(algorithm='auto', leaf_size=30, metric='hamming',\n",
       "           metric_params=None, n_jobs=1, n_neighbors=5, p=2,\n",
       "           weights='uniform')>"
      ]
     },
     "execution_count": 23,
     "metadata": {},
     "output_type": "execute_result"
    }
   ],
   "source": [
    "modelo_v2.get_params"
   ]
  },
  {
   "cell_type": "code",
   "execution_count": 24,
   "metadata": {
    "collapsed": true
   },
   "outputs": [],
   "source": [
    "# Listas vazias que vão receber os scrores de acurária e os parâmetros resultados do modelo\n",
    "acuracia = []\n",
    "params = []\n",
    "\n",
    "# Lista de dimensões\n",
    "dimensoes = [1, 2, 3, 4, 5, 6, 7, 8, 9, 10]"
   ]
  },
  {
   "cell_type": "code",
   "execution_count": 25,
   "metadata": {},
   "outputs": [],
   "source": [
    "# Implementação do modelo\n",
    "for d in dimensoes:\n",
    "    svd = sklearn.decomposition.TruncatedSVD(n_components = d)\n",
    "    \n",
    "    if d < 64:\n",
    "        X_fit_treino = svd.fit_transform(X_treino)\n",
    "        X_fit_teste = svd.transform(X_teste)\n",
    "    else:\n",
    "        X_nl = X_treino\n",
    "        X_nl1 = X_teste\n",
    "        \n",
    "    modelo_v2.fit(X_fit_treino, Y_treino)\n",
    "    \n",
    "    acuracia.append(compute_teste(x_teste = X_fit_teste, y_teste = Y_teste, clf = modelo_v2, cv = 10))"
   ]
  },
  {
   "cell_type": "code",
   "execution_count": 26,
   "metadata": {},
   "outputs": [
    {
     "data": {
      "text/plain": [
       "[[0.18333333333333332,\n",
       "  0.083333333333333329,\n",
       "  0.13333333333333333,\n",
       "  0.13333333333333333,\n",
       "  0.050847457627118647,\n",
       "  0.084745762711864403,\n",
       "  0.067796610169491525,\n",
       "  0.10169491525423729,\n",
       "  0.084745762711864403,\n",
       "  0.067796610169491525],\n",
       " [0.083333333333333329,\n",
       "  0.050000000000000003,\n",
       "  0.13333333333333333,\n",
       "  0.13333333333333333,\n",
       "  0.10169491525423729,\n",
       "  0.050847457627118647,\n",
       "  0.067796610169491525,\n",
       "  0.10169491525423729,\n",
       "  0.067796610169491525,\n",
       "  0.10169491525423729],\n",
       " [0.18333333333333332,\n",
       "  0.083333333333333329,\n",
       "  0.13333333333333333,\n",
       "  0.13333333333333333,\n",
       "  0.050847457627118647,\n",
       "  0.084745762711864403,\n",
       "  0.067796610169491525,\n",
       "  0.10169491525423729,\n",
       "  0.084745762711864403,\n",
       "  0.067796610169491525],\n",
       " [0.18333333333333332,\n",
       "  0.083333333333333329,\n",
       "  0.13333333333333333,\n",
       "  0.13333333333333333,\n",
       "  0.050847457627118647,\n",
       "  0.084745762711864403,\n",
       "  0.067796610169491525,\n",
       "  0.10169491525423729,\n",
       "  0.084745762711864403,\n",
       "  0.067796610169491525],\n",
       " [0.083333333333333329,\n",
       "  0.050000000000000003,\n",
       "  0.11666666666666667,\n",
       "  0.083333333333333329,\n",
       "  0.084745762711864403,\n",
       "  0.10169491525423729,\n",
       "  0.11864406779661017,\n",
       "  0.13559322033898305,\n",
       "  0.13559322033898305,\n",
       "  0.067796610169491525],\n",
       " [0.083333333333333329,\n",
       "  0.050000000000000003,\n",
       "  0.11666666666666667,\n",
       "  0.083333333333333329,\n",
       "  0.084745762711864403,\n",
       "  0.10169491525423729,\n",
       "  0.11864406779661017,\n",
       "  0.13559322033898305,\n",
       "  0.13559322033898305,\n",
       "  0.067796610169491525],\n",
       " [0.083333333333333329,\n",
       "  0.050000000000000003,\n",
       "  0.11666666666666667,\n",
       "  0.083333333333333329,\n",
       "  0.084745762711864403,\n",
       "  0.10169491525423729,\n",
       "  0.11864406779661017,\n",
       "  0.13559322033898305,\n",
       "  0.13559322033898305,\n",
       "  0.067796610169491525],\n",
       " [0.083333333333333329,\n",
       "  0.050000000000000003,\n",
       "  0.13333333333333333,\n",
       "  0.13333333333333333,\n",
       "  0.10169491525423729,\n",
       "  0.050847457627118647,\n",
       "  0.067796610169491525,\n",
       "  0.10169491525423729,\n",
       "  0.067796610169491525,\n",
       "  0.10169491525423729],\n",
       " [0.083333333333333329,\n",
       "  0.050000000000000003,\n",
       "  0.13333333333333333,\n",
       "  0.13333333333333333,\n",
       "  0.10169491525423729,\n",
       "  0.050847457627118647,\n",
       "  0.067796610169491525,\n",
       "  0.10169491525423729,\n",
       "  0.067796610169491525,\n",
       "  0.10169491525423729],\n",
       " [0.083333333333333329,\n",
       "  0.050000000000000003,\n",
       "  0.13333333333333333,\n",
       "  0.13333333333333333,\n",
       "  0.10169491525423729,\n",
       "  0.050847457627118647,\n",
       "  0.067796610169491525,\n",
       "  0.10169491525423729,\n",
       "  0.067796610169491525,\n",
       "  0.10169491525423729]]"
      ]
     },
     "execution_count": 26,
     "metadata": {},
     "output_type": "execute_result"
    }
   ],
   "source": [
    "acuracia"
   ]
  },
  {
   "cell_type": "markdown",
   "metadata": {
    "collapsed": true
   },
   "source": [
    "# Fim"
   ]
  }
 ],
 "metadata": {
  "anaconda-cloud": {},
  "kernelspec": {
   "display_name": "Python 3",
   "language": "python",
   "name": "python3"
  },
  "language_info": {
   "codemirror_mode": {
    "name": "ipython",
    "version": 3
   },
   "file_extension": ".py",
   "mimetype": "text/x-python",
   "name": "python",
   "nbconvert_exporter": "python",
   "pygments_lexer": "ipython3",
   "version": "3.8.5"
  }
 },
 "nbformat": 4,
 "nbformat_minor": 1
}
