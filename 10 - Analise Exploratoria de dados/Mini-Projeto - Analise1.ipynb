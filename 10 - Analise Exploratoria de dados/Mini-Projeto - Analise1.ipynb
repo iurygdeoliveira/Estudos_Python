{
 "cells": [
  {
   "cell_type": "markdown",
   "metadata": {},
   "source": [
    "## Análise Exploratória em Conjunto de Dados do Kaggle - Análise 1"
   ]
  },
  {
   "cell_type": "markdown",
   "metadata": {},
   "source": [
    "## Imports"
   ]
  },
  {
   "cell_type": "code",
   "execution_count": 15,
   "metadata": {},
   "outputs": [],
   "source": [
    "# Manipulação de arquivos\n",
    "import os\n",
    "import subprocess \n",
    "import stat \n",
    "\n",
    "#Manipulação de dados\n",
    "import numpy as np\n",
    "import pandas as pd\n",
    "\n",
    "#Manipulação de tempo de datas\n",
    "from datetime import datetime\n",
    "\n",
    "#Geração de gráficos\n",
    "import seaborn as sns\n",
    "import matplotlib as mat\n",
    "import matplotlib.pyplot as plt  \n",
    "sns.set(style = \"white\")\n",
    "\n",
    "#Definindo para que os gráficos sejam gerados no próprio jupyter notebook\n",
    "%matplotlib inline"
   ]
  },
  {
   "cell_type": "markdown",
   "metadata": {},
   "source": [
    "## Versões dos  módulos e bibliotecas"
   ]
  },
  {
   "cell_type": "code",
   "execution_count": 7,
   "metadata": {},
   "outputs": [
    {
     "name": "stdout",
     "output_type": "stream",
     "text": [
      "Versão do numpy usado neste Jupyter Notebook: 1.20.1\n"
     ]
    }
   ],
   "source": [
    "print('Versão do numpy usado neste Jupyter Notebook:', np.__version__)"
   ]
  },
  {
   "cell_type": "code",
   "execution_count": 8,
   "metadata": {},
   "outputs": [
    {
     "name": "stdout",
     "output_type": "stream",
     "text": [
      "Versão do panda usado neste Jupyter Notebook: 1.2.1\n"
     ]
    }
   ],
   "source": [
    "print('Versão do panda usado neste Jupyter Notebook:', pd.__version__)"
   ]
  },
  {
   "cell_type": "code",
   "execution_count": 10,
   "metadata": {},
   "outputs": [
    {
     "name": "stdout",
     "output_type": "stream",
     "text": [
      "Versão do seaborn usado neste Jupyter Notebook: 0.11.0\n"
     ]
    }
   ],
   "source": [
    "print('Versão do seaborn usado neste Jupyter Notebook:', sns.__version__)"
   ]
  },
  {
   "cell_type": "code",
   "execution_count": 16,
   "metadata": {},
   "outputs": [
    {
     "name": "stdout",
     "output_type": "stream",
     "text": [
      "Versão do matplotlib usado neste Jupyter Notebook: 3.3.3\n"
     ]
    }
   ],
   "source": [
    "print('Versão do matplotlib usado neste Jupyter Notebook:', mat.__version__)"
   ]
  },
  {
   "cell_type": "code",
   "execution_count": 18,
   "metadata": {},
   "outputs": [
    {
     "data": {
      "text/html": [
       "<div>\n",
       "<style scoped>\n",
       "    .dataframe tbody tr th:only-of-type {\n",
       "        vertical-align: middle;\n",
       "    }\n",
       "\n",
       "    .dataframe tbody tr th {\n",
       "        vertical-align: top;\n",
       "    }\n",
       "\n",
       "    .dataframe thead th {\n",
       "        text-align: right;\n",
       "    }\n",
       "</style>\n",
       "<table border=\"1\" class=\"dataframe\">\n",
       "  <thead>\n",
       "    <tr style=\"text-align: right;\">\n",
       "      <th></th>\n",
       "      <th>dateCrawled</th>\n",
       "      <th>name</th>\n",
       "      <th>seller</th>\n",
       "      <th>offerType</th>\n",
       "      <th>price</th>\n",
       "      <th>abtest</th>\n",
       "      <th>vehicleType</th>\n",
       "      <th>yearOfRegistration</th>\n",
       "      <th>gearbox</th>\n",
       "      <th>powerPS</th>\n",
       "      <th>...</th>\n",
       "      <th>postalCode</th>\n",
       "      <th>lastSeen</th>\n",
       "      <th>yearOfCreation</th>\n",
       "      <th>yearCrawled</th>\n",
       "      <th>monthOfCreation</th>\n",
       "      <th>monthCrawled</th>\n",
       "      <th>NoOfDaysOnline</th>\n",
       "      <th>NoOfHrsOnline</th>\n",
       "      <th>yearsOld</th>\n",
       "      <th>monthsOld</th>\n",
       "    </tr>\n",
       "  </thead>\n",
       "  <tbody>\n",
       "    <tr>\n",
       "      <th>0</th>\n",
       "      <td>2016-03-24 11:52:17</td>\n",
       "      <td>Golf_3_1.6</td>\n",
       "      <td>privat</td>\n",
       "      <td>Offer</td>\n",
       "      <td>480</td>\n",
       "      <td>test</td>\n",
       "      <td>Other</td>\n",
       "      <td>1993</td>\n",
       "      <td>manuell</td>\n",
       "      <td>0</td>\n",
       "      <td>...</td>\n",
       "      <td>70435</td>\n",
       "      <td>2016-04-07 03:16:57</td>\n",
       "      <td>2016</td>\n",
       "      <td>2016</td>\n",
       "      <td>March</td>\n",
       "      <td>March</td>\n",
       "      <td>14</td>\n",
       "      <td>3</td>\n",
       "      <td>23</td>\n",
       "      <td>11</td>\n",
       "    </tr>\n",
       "    <tr>\n",
       "      <th>1</th>\n",
       "      <td>2016-03-23 10:58:45</td>\n",
       "      <td>A5_Sportback_2.7_Tdi</td>\n",
       "      <td>privat</td>\n",
       "      <td>Offer</td>\n",
       "      <td>18300</td>\n",
       "      <td>test</td>\n",
       "      <td>coupe</td>\n",
       "      <td>2011</td>\n",
       "      <td>manuell</td>\n",
       "      <td>190</td>\n",
       "      <td>...</td>\n",
       "      <td>66954</td>\n",
       "      <td>2016-04-07 01:46:50</td>\n",
       "      <td>2016</td>\n",
       "      <td>2016</td>\n",
       "      <td>March</td>\n",
       "      <td>March</td>\n",
       "      <td>14</td>\n",
       "      <td>1</td>\n",
       "      <td>5</td>\n",
       "      <td>7</td>\n",
       "    </tr>\n",
       "    <tr>\n",
       "      <th>2</th>\n",
       "      <td>2016-03-14 12:52:21</td>\n",
       "      <td>Jeep_Grand_Cherokee_\"Overland\"</td>\n",
       "      <td>privat</td>\n",
       "      <td>Offer</td>\n",
       "      <td>9800</td>\n",
       "      <td>test</td>\n",
       "      <td>suv</td>\n",
       "      <td>2004</td>\n",
       "      <td>automatik</td>\n",
       "      <td>163</td>\n",
       "      <td>...</td>\n",
       "      <td>90480</td>\n",
       "      <td>2016-04-04 12:47:46</td>\n",
       "      <td>2016</td>\n",
       "      <td>2016</td>\n",
       "      <td>March</td>\n",
       "      <td>March</td>\n",
       "      <td>22</td>\n",
       "      <td>12</td>\n",
       "      <td>12</td>\n",
       "      <td>4</td>\n",
       "    </tr>\n",
       "    <tr>\n",
       "      <th>3</th>\n",
       "      <td>2016-03-17 16:54:04</td>\n",
       "      <td>GOLF_4_1_4__3TÃRER</td>\n",
       "      <td>privat</td>\n",
       "      <td>Offer</td>\n",
       "      <td>1500</td>\n",
       "      <td>test</td>\n",
       "      <td>kleinwagen</td>\n",
       "      <td>2001</td>\n",
       "      <td>manuell</td>\n",
       "      <td>75</td>\n",
       "      <td>...</td>\n",
       "      <td>91074</td>\n",
       "      <td>2016-03-17 17:40:17</td>\n",
       "      <td>2016</td>\n",
       "      <td>2016</td>\n",
       "      <td>March</td>\n",
       "      <td>March</td>\n",
       "      <td>0</td>\n",
       "      <td>17</td>\n",
       "      <td>15</td>\n",
       "      <td>5</td>\n",
       "    </tr>\n",
       "    <tr>\n",
       "      <th>4</th>\n",
       "      <td>2016-03-31 17:25:20</td>\n",
       "      <td>Skoda_Fabia_1.4_TDI_PD_Classic</td>\n",
       "      <td>privat</td>\n",
       "      <td>Offer</td>\n",
       "      <td>3600</td>\n",
       "      <td>test</td>\n",
       "      <td>kleinwagen</td>\n",
       "      <td>2008</td>\n",
       "      <td>manuell</td>\n",
       "      <td>69</td>\n",
       "      <td>...</td>\n",
       "      <td>60437</td>\n",
       "      <td>2016-04-06 10:17:21</td>\n",
       "      <td>2016</td>\n",
       "      <td>2016</td>\n",
       "      <td>March</td>\n",
       "      <td>March</td>\n",
       "      <td>6</td>\n",
       "      <td>10</td>\n",
       "      <td>8</td>\n",
       "      <td>5</td>\n",
       "    </tr>\n",
       "    <tr>\n",
       "      <th>...</th>\n",
       "      <td>...</td>\n",
       "      <td>...</td>\n",
       "      <td>...</td>\n",
       "      <td>...</td>\n",
       "      <td>...</td>\n",
       "      <td>...</td>\n",
       "      <td>...</td>\n",
       "      <td>...</td>\n",
       "      <td>...</td>\n",
       "      <td>...</td>\n",
       "      <td>...</td>\n",
       "      <td>...</td>\n",
       "      <td>...</td>\n",
       "      <td>...</td>\n",
       "      <td>...</td>\n",
       "      <td>...</td>\n",
       "      <td>...</td>\n",
       "      <td>...</td>\n",
       "      <td>...</td>\n",
       "      <td>...</td>\n",
       "      <td>...</td>\n",
       "    </tr>\n",
       "    <tr>\n",
       "      <th>313682</th>\n",
       "      <td>2016-03-21 09:50:58</td>\n",
       "      <td>Mitsubishi_Cold</td>\n",
       "      <td>privat</td>\n",
       "      <td>Offer</td>\n",
       "      <td>0</td>\n",
       "      <td>control</td>\n",
       "      <td>Other</td>\n",
       "      <td>2005</td>\n",
       "      <td>manuell</td>\n",
       "      <td>0</td>\n",
       "      <td>...</td>\n",
       "      <td>2694</td>\n",
       "      <td>2016-03-21 10:42:49</td>\n",
       "      <td>2016</td>\n",
       "      <td>2016</td>\n",
       "      <td>March</td>\n",
       "      <td>March</td>\n",
       "      <td>0</td>\n",
       "      <td>10</td>\n",
       "      <td>11</td>\n",
       "      <td>5</td>\n",
       "    </tr>\n",
       "    <tr>\n",
       "      <th>313683</th>\n",
       "      <td>2016-03-14 17:48:27</td>\n",
       "      <td>Suche_t4___vito_ab_6_sitze</td>\n",
       "      <td>privat</td>\n",
       "      <td>Offer</td>\n",
       "      <td>2200</td>\n",
       "      <td>test</td>\n",
       "      <td>Other</td>\n",
       "      <td>2005</td>\n",
       "      <td>Unspecified</td>\n",
       "      <td>0</td>\n",
       "      <td>...</td>\n",
       "      <td>39576</td>\n",
       "      <td>2016-04-06 00:46:52</td>\n",
       "      <td>2016</td>\n",
       "      <td>2016</td>\n",
       "      <td>March</td>\n",
       "      <td>March</td>\n",
       "      <td>23</td>\n",
       "      <td>0</td>\n",
       "      <td>11</td>\n",
       "      <td>11</td>\n",
       "    </tr>\n",
       "    <tr>\n",
       "      <th>313684</th>\n",
       "      <td>2016-03-05 19:56:21</td>\n",
       "      <td>Smart_smart_leistungssteigerung_100ps</td>\n",
       "      <td>privat</td>\n",
       "      <td>Offer</td>\n",
       "      <td>1199</td>\n",
       "      <td>test</td>\n",
       "      <td>cabrio</td>\n",
       "      <td>2000</td>\n",
       "      <td>automatik</td>\n",
       "      <td>101</td>\n",
       "      <td>...</td>\n",
       "      <td>26135</td>\n",
       "      <td>2016-03-11 18:17:12</td>\n",
       "      <td>2016</td>\n",
       "      <td>2016</td>\n",
       "      <td>March</td>\n",
       "      <td>March</td>\n",
       "      <td>6</td>\n",
       "      <td>18</td>\n",
       "      <td>16</td>\n",
       "      <td>9</td>\n",
       "    </tr>\n",
       "    <tr>\n",
       "      <th>313685</th>\n",
       "      <td>2016-03-19 18:57:12</td>\n",
       "      <td>Volkswagen_Multivan_T4_TDI_7DC_UY2</td>\n",
       "      <td>privat</td>\n",
       "      <td>Offer</td>\n",
       "      <td>9200</td>\n",
       "      <td>test</td>\n",
       "      <td>bus</td>\n",
       "      <td>1996</td>\n",
       "      <td>manuell</td>\n",
       "      <td>102</td>\n",
       "      <td>...</td>\n",
       "      <td>87439</td>\n",
       "      <td>2016-04-07 07:15:26</td>\n",
       "      <td>2016</td>\n",
       "      <td>2016</td>\n",
       "      <td>March</td>\n",
       "      <td>March</td>\n",
       "      <td>19</td>\n",
       "      <td>7</td>\n",
       "      <td>20</td>\n",
       "      <td>9</td>\n",
       "    </tr>\n",
       "    <tr>\n",
       "      <th>313686</th>\n",
       "      <td>2016-03-20 19:41:08</td>\n",
       "      <td>VW_Golf_Kombi_1_9l_TDI</td>\n",
       "      <td>privat</td>\n",
       "      <td>Offer</td>\n",
       "      <td>3400</td>\n",
       "      <td>test</td>\n",
       "      <td>kombi</td>\n",
       "      <td>2002</td>\n",
       "      <td>manuell</td>\n",
       "      <td>100</td>\n",
       "      <td>...</td>\n",
       "      <td>40764</td>\n",
       "      <td>2016-03-24 12:45:21</td>\n",
       "      <td>2016</td>\n",
       "      <td>2016</td>\n",
       "      <td>March</td>\n",
       "      <td>March</td>\n",
       "      <td>4</td>\n",
       "      <td>12</td>\n",
       "      <td>14</td>\n",
       "      <td>6</td>\n",
       "    </tr>\n",
       "  </tbody>\n",
       "</table>\n",
       "<p>313687 rows × 27 columns</p>\n",
       "</div>"
      ],
      "text/plain": [
       "                dateCrawled                                   name  seller  \\\n",
       "0       2016-03-24 11:52:17                             Golf_3_1.6  privat   \n",
       "1       2016-03-23 10:58:45                   A5_Sportback_2.7_Tdi  privat   \n",
       "2       2016-03-14 12:52:21         Jeep_Grand_Cherokee_\"Overland\"  privat   \n",
       "3       2016-03-17 16:54:04                    GOLF_4_1_4__3TÃRER  privat   \n",
       "4       2016-03-31 17:25:20         Skoda_Fabia_1.4_TDI_PD_Classic  privat   \n",
       "...                     ...                                    ...     ...   \n",
       "313682  2016-03-21 09:50:58                        Mitsubishi_Cold  privat   \n",
       "313683  2016-03-14 17:48:27             Suche_t4___vito_ab_6_sitze  privat   \n",
       "313684  2016-03-05 19:56:21  Smart_smart_leistungssteigerung_100ps  privat   \n",
       "313685  2016-03-19 18:57:12     Volkswagen_Multivan_T4_TDI_7DC_UY2  privat   \n",
       "313686  2016-03-20 19:41:08                 VW_Golf_Kombi_1_9l_TDI  privat   \n",
       "\n",
       "       offerType  price   abtest vehicleType  yearOfRegistration      gearbox  \\\n",
       "0          Offer    480     test       Other                1993      manuell   \n",
       "1          Offer  18300     test       coupe                2011      manuell   \n",
       "2          Offer   9800     test         suv                2004    automatik   \n",
       "3          Offer   1500     test  kleinwagen                2001      manuell   \n",
       "4          Offer   3600     test  kleinwagen                2008      manuell   \n",
       "...          ...    ...      ...         ...                 ...          ...   \n",
       "313682     Offer      0  control       Other                2005      manuell   \n",
       "313683     Offer   2200     test       Other                2005  Unspecified   \n",
       "313684     Offer   1199     test      cabrio                2000    automatik   \n",
       "313685     Offer   9200     test         bus                1996      manuell   \n",
       "313686     Offer   3400     test       kombi                2002      manuell   \n",
       "\n",
       "        powerPS  ... postalCode             lastSeen yearOfCreation  \\\n",
       "0             0  ...      70435  2016-04-07 03:16:57           2016   \n",
       "1           190  ...      66954  2016-04-07 01:46:50           2016   \n",
       "2           163  ...      90480  2016-04-04 12:47:46           2016   \n",
       "3            75  ...      91074  2016-03-17 17:40:17           2016   \n",
       "4            69  ...      60437  2016-04-06 10:17:21           2016   \n",
       "...         ...  ...        ...                  ...            ...   \n",
       "313682        0  ...       2694  2016-03-21 10:42:49           2016   \n",
       "313683        0  ...      39576  2016-04-06 00:46:52           2016   \n",
       "313684      101  ...      26135  2016-03-11 18:17:12           2016   \n",
       "313685      102  ...      87439  2016-04-07 07:15:26           2016   \n",
       "313686      100  ...      40764  2016-03-24 12:45:21           2016   \n",
       "\n",
       "       yearCrawled monthOfCreation monthCrawled NoOfDaysOnline  NoOfHrsOnline  \\\n",
       "0             2016           March        March             14              3   \n",
       "1             2016           March        March             14              1   \n",
       "2             2016           March        March             22             12   \n",
       "3             2016           March        March              0             17   \n",
       "4             2016           March        March              6             10   \n",
       "...            ...             ...          ...            ...            ...   \n",
       "313682        2016           March        March              0             10   \n",
       "313683        2016           March        March             23              0   \n",
       "313684        2016           March        March              6             18   \n",
       "313685        2016           March        March             19              7   \n",
       "313686        2016           March        March              4             12   \n",
       "\n",
       "       yearsOld  monthsOld  \n",
       "0            23         11  \n",
       "1             5          7  \n",
       "2            12          4  \n",
       "3            15          5  \n",
       "4             8          5  \n",
       "...         ...        ...  \n",
       "313682       11          5  \n",
       "313683       11         11  \n",
       "313684       16          9  \n",
       "313685       20          9  \n",
       "313686       14          6  \n",
       "\n",
       "[313687 rows x 27 columns]"
      ]
     },
     "execution_count": 18,
     "metadata": {},
     "output_type": "execute_result"
    }
   ],
   "source": [
    "# Carregando o Dataset\n",
    "clean_data_path = \"dataset/autos.csv\"\n",
    "df = pd.read_csv(clean_data_path,encoding = \"latin-1\")\n",
    "df"
   ]
  },
  {
   "cell_type": "markdown",
   "metadata": {},
   "source": [
    "## Distribuição de Veículos com base no Ano de Registro"
   ]
  },
  {
   "cell_type": "code",
   "execution_count": 23,
   "metadata": {},
   "outputs": [
    {
     "name": "stderr",
     "output_type": "stream",
     "text": [
      "/home/iuryprof/anaconda3/lib/python3.8/site-packages/seaborn/distributions.py:2551: FutureWarning: `distplot` is a deprecated function and will be removed in a future version. Please adapt your code to use either `displot` (a figure-level function with similar flexibility) or `histplot` (an axes-level function for histograms).\n",
      "  warnings.warn(msg, FutureWarning)\n"
     ]
    },
    {
     "data": {
      "image/png": "[encoded data removed]",
      "text/plain": [
       "<Figure size 576x432 with 1 Axes>"
      ]
     },
     "metadata": {
      "needs_background": "light"
     },
     "output_type": "display_data"
    }
   ],
   "source": [
    "# Criando um Plot com a Distribuição de Veículos com base no Ano de Registro\n",
    "fig, ax = plt.subplots(figsize=(8,6))\n",
    "sns.distplot(df[\"yearOfRegistration\"], color=\"#33cc33\",kde=True,ax=ax)\n",
    "ax.set_title('Distribuição de Veículos com base no Ano de Registro', fontsize= 15)\n",
    "plt.ylabel(\"Densidade (KDE)\", fontsize= 15)\n",
    "plt.xlabel(\"Ano de Registro\", fontsize= 15)\n",
    "plt.show()"
   ]
  },
  {
   "cell_type": "code",
   "execution_count": 25,
   "metadata": {},
   "outputs": [],
   "source": [
    "# Salvando o plot\n",
    "fig.savefig(\"plots/Analise1/vehicle-distribution.png\")"
   ]
  },
  {
   "cell_type": "markdown",
   "metadata": {},
   "source": [
    "## Variação da faixa de preço pelo tipo de veículo"
   ]
  },
  {
   "cell_type": "code",
   "execution_count": 27,
   "metadata": {},
   "outputs": [
    {
     "data": {
      "image/png": "[encoded data removed]",
      "text/plain": [
       "<Figure size 576x432 with 1 Axes>"
      ]
     },
     "metadata": {},
     "output_type": "display_data"
    }
   ],
   "source": [
    "# Crie um Boxplot para avaliar os outliers\n",
    "sns.set_style(\"whitegrid\")\n",
    "fig, ax = plt.subplots(figsize=(8,6))\n",
    "sns.boxplot(x=\"vehicleType\", y=\"price\", data=df)\n",
    "ax.text(5.25,27000,\"Análise de Outliers\",fontsize=18,color=\"r\",ha=\"center\", va=\"center\")\n",
    "ax.xaxis.set_label_text(\"Tipo de Veículo\",fontdict= {'size':14})\n",
    "ax.yaxis.set_label_text(\"Range de Preço\",fontdict= {'size':14})\n",
    "plt.show()"
   ]
  },
  {
   "cell_type": "code",
   "execution_count": 28,
   "metadata": {},
   "outputs": [],
   "source": [
    "# Salvando o plot\n",
    "fig.savefig(\"plots/Analise1/price-vehicleType-boxplot.png\")"
   ]
  },
  {
   "cell_type": "markdown",
   "metadata": {},
   "source": [
    "## Contagem total de veículos à venda conforme o tipo de veículo"
   ]
  },
  {
   "cell_type": "code",
   "execution_count": 29,
   "metadata": {},
   "outputs": [
    {
     "data": {
      "image/png": "[encoded data removed]",
      "text/plain": [
       "<Figure size 648x432 with 1 Axes>"
      ]
     },
     "metadata": {},
     "output_type": "display_data"
    }
   ],
   "source": [
    "# Crie um Count Plot que mostre o número de veículos pertencentes a cada categoria \n",
    "sns.set_style(\"white\")\n",
    "g = sns.catplot(x=\"vehicleType\", data=df, kind=\"count\", palette=\"BuPu\", height=6, aspect=1.5)\n",
    "g.ax.xaxis.set_label_text(\"Tipo de Veículo\",fontdict= {'size':16})\n",
    "g.ax.yaxis.set_label_text(\"Total de Veículos Para Venda\", fontdict= {'size':16})\n",
    "g.ax.set_title(\"Contagem total de veículos à venda conforme o tipo de veículo\",fontdict= {'size':18})\n",
    "# to get the counts on the top heads of the bar\n",
    "for p in g.ax.patches:\n",
    "    g.ax.annotate((p.get_height()), (p.get_x()+0.1, p.get_height()+500))"
   ]
  },
  {
   "cell_type": "code",
   "execution_count": 30,
   "metadata": {},
   "outputs": [],
   "source": [
    "# Salvando o plot\n",
    "g.savefig(\"plots/Analise1/count-vehicleType.png\")"
   ]
  },
  {
   "cell_type": "markdown",
   "metadata": {
    "collapsed": true
   },
   "source": [
    "# Fim"
   ]
  }
 ],
 "metadata": {
  "anaconda-cloud": {},
  "kernelspec": {
   "display_name": "Python 3",
   "language": "python",
   "name": "python3"
  },
  "language_info": {
   "codemirror_mode": {
    "name": "ipython",
    "version": 3
   },
   "file_extension": ".py",
   "mimetype": "text/x-python",
   "name": "python",
   "nbconvert_exporter": "python",
   "pygments_lexer": "ipython3",
   "version": "3.8.5"
  }
 },
 "nbformat": 4,
 "nbformat_minor": 1
}