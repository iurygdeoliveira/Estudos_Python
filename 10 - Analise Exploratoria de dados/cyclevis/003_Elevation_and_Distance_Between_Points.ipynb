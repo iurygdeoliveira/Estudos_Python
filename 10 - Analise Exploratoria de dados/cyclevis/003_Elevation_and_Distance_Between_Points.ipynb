{
 "cells": [
  {
   "cell_type": "markdown",
   "id": "79181b70-9da9-4726-af5e-d5b9769eab9d",
   "metadata": {},
   "source": [
    "# Data Science for Cycling #3 - How To Calculate Elevation Difference and Distance From a GPX Route File\n",
    "- Noteook 3/6\n",
    "- Make sure to have the `haversine` package installed\n",
    "\n",
    "        pip install haversine\n",
    "        \n",
    "- Let's import the libraries and tweak Matplotlib's default stylings:"
   ]
  },
  {
   "cell_type": "code",
   "execution_count": 1,
   "id": "1f87a665-8046-4cfe-ae98-7e32fcf8e7e1",
   "metadata": {},
   "outputs": [],
   "source": [
    "import numpy as np\n",
    "import pandas as pd\n",
    "import matplotlib.pyplot as plt\n",
    "import haversine as hs\n",
    "\n",
    "plt.rcParams['figure.figsize'] = (16, 6)\n",
    "plt.rcParams['axes.spines.top'] = False\n",
    "plt.rcParams['axes.spines.right'] = False"
   ]
  },
  {
   "cell_type": "markdown",
   "id": "43fa1bdf-f1c7-4015-b372-b880d364271e",
   "metadata": {},
   "source": [
    "- Let's read in the dataset\n",
    "- We've saved it to a CSV file in the first notebook:"
   ]
  },
  {
   "cell_type": "code",
   "execution_count": 2,
   "id": "d4f7f190-46ba-44bc-8566-7a9a1bfe69e4",
   "metadata": {},
   "outputs": [
    {
     "data": {
      "text/html": [
       "<div>\n",
       "<style scoped>\n",
       "    .dataframe tbody tr th:only-of-type {\n",
       "        vertical-align: middle;\n",
       "    }\n",
       "\n",
       "    .dataframe tbody tr th {\n",
       "        vertical-align: top;\n",
       "    }\n",
       "\n",
       "    .dataframe thead th {\n",
       "        text-align: right;\n",
       "    }\n",
       "</style>\n",
       "<table border=\"1\" class=\"dataframe\">\n",
       "  <thead>\n",
       "    <tr style=\"text-align: right;\">\n",
       "      <th></th>\n",
       "      <th>latitude</th>\n",
       "      <th>longitude</th>\n",
       "      <th>elevation</th>\n",
       "    </tr>\n",
       "  </thead>\n",
       "  <tbody>\n",
       "    <tr>\n",
       "      <th>0</th>\n",
       "      <td>45.772480</td>\n",
       "      <td>15.958040</td>\n",
       "      <td>113.96</td>\n",
       "    </tr>\n",
       "    <tr>\n",
       "      <th>1</th>\n",
       "      <td>45.772770</td>\n",
       "      <td>15.959090</td>\n",
       "      <td>115.82</td>\n",
       "    </tr>\n",
       "    <tr>\n",
       "      <th>2</th>\n",
       "      <td>45.773270</td>\n",
       "      <td>15.958795</td>\n",
       "      <td>116.15</td>\n",
       "    </tr>\n",
       "    <tr>\n",
       "      <th>3</th>\n",
       "      <td>45.773770</td>\n",
       "      <td>15.958500</td>\n",
       "      <td>116.12</td>\n",
       "    </tr>\n",
       "    <tr>\n",
       "      <th>4</th>\n",
       "      <td>45.774235</td>\n",
       "      <td>15.959335</td>\n",
       "      <td>115.98</td>\n",
       "    </tr>\n",
       "  </tbody>\n",
       "</table>\n",
       "</div>"
      ],
      "text/plain": [
       "    latitude  longitude  elevation\n",
       "0  45.772480  15.958040     113.96\n",
       "1  45.772770  15.959090     115.82\n",
       "2  45.773270  15.958795     116.15\n",
       "3  45.773770  15.958500     116.12\n",
       "4  45.774235  15.959335     115.98"
      ]
     },
     "execution_count": 2,
     "metadata": {},
     "output_type": "execute_result"
    }
   ],
   "source": [
    "route_df = pd.read_csv('../data/route_df.csv')\n",
    "route_df.head()"
   ]
  },
  {
   "cell_type": "markdown",
   "id": "9df4ae0b-268e-4923-8b10-3150b33c0b8a",
   "metadata": {},
   "source": [
    "<br>\n",
    "\n",
    "## Calculate elevation difference\n",
    "- Put simply, you can use Python's `diff()` function to difference a column\n",
    "- If you apply it to the Elevation column, you get the elevation difference between point T+1 and T\n",
    "- The first differenced value will be Null, as there's no data point before it:"
   ]
  },
  {
   "cell_type": "code",
   "execution_count": 3,
   "id": "70b6b1db-27bd-4f46-ab85-18f049a87c96",
   "metadata": {},
   "outputs": [
    {
     "data": {
      "text/html": [
       "<div>\n",
       "<style scoped>\n",
       "    .dataframe tbody tr th:only-of-type {\n",
       "        vertical-align: middle;\n",
       "    }\n",
       "\n",
       "    .dataframe tbody tr th {\n",
       "        vertical-align: top;\n",
       "    }\n",
       "\n",
       "    .dataframe thead th {\n",
       "        text-align: right;\n",
       "    }\n",
       "</style>\n",
       "<table border=\"1\" class=\"dataframe\">\n",
       "  <thead>\n",
       "    <tr style=\"text-align: right;\">\n",
       "      <th></th>\n",
       "      <th>latitude</th>\n",
       "      <th>longitude</th>\n",
       "      <th>elevation</th>\n",
       "      <th>elevation_diff</th>\n",
       "    </tr>\n",
       "  </thead>\n",
       "  <tbody>\n",
       "    <tr>\n",
       "      <th>0</th>\n",
       "      <td>45.772480</td>\n",
       "      <td>15.958040</td>\n",
       "      <td>113.96</td>\n",
       "      <td>NaN</td>\n",
       "    </tr>\n",
       "    <tr>\n",
       "      <th>1</th>\n",
       "      <td>45.772770</td>\n",
       "      <td>15.959090</td>\n",
       "      <td>115.82</td>\n",
       "      <td>1.86</td>\n",
       "    </tr>\n",
       "    <tr>\n",
       "      <th>2</th>\n",
       "      <td>45.773270</td>\n",
       "      <td>15.958795</td>\n",
       "      <td>116.15</td>\n",
       "      <td>0.33</td>\n",
       "    </tr>\n",
       "    <tr>\n",
       "      <th>3</th>\n",
       "      <td>45.773770</td>\n",
       "      <td>15.958500</td>\n",
       "      <td>116.12</td>\n",
       "      <td>-0.03</td>\n",
       "    </tr>\n",
       "    <tr>\n",
       "      <th>4</th>\n",
       "      <td>45.774235</td>\n",
       "      <td>15.959335</td>\n",
       "      <td>115.98</td>\n",
       "      <td>-0.14</td>\n",
       "    </tr>\n",
       "  </tbody>\n",
       "</table>\n",
       "</div>"
      ],
      "text/plain": [
       "    latitude  longitude  elevation  elevation_diff\n",
       "0  45.772480  15.958040     113.96             NaN\n",
       "1  45.772770  15.959090     115.82            1.86\n",
       "2  45.773270  15.958795     116.15            0.33\n",
       "3  45.773770  15.958500     116.12           -0.03\n",
       "4  45.774235  15.959335     115.98           -0.14"
      ]
     },
     "execution_count": 3,
     "metadata": {},
     "output_type": "execute_result"
    }
   ],
   "source": [
    "route_df['elevation_diff'] = route_df['elevation'].diff()\n",
    "\n",
    "route_df.head()"
   ]
  },
  {
   "cell_type": "markdown",
   "id": "c9aacdce-adad-4e02-be5e-af529a9f7ae6",
   "metadata": {},
   "source": [
    "<br>\n",
    "\n",
    "## Calculate distance between geolocations\n",
    "- Calculating distance is tricky in this case\n",
    "- It's best to use Google's API\n",
    "    - But it's not free\n",
    "    - And applies to road, which is limiting for let's say mountain bike trails\n",
    "- The best free option is to use **haversine distance**\n",
    "    - It calculates a great circle distance between two points on a sphere given their latitudes and longitudes\n",
    "    - Learn more: https://en.wikipedia.org/wiki/Haversine_formula\n",
    "- The GPX route measures 36,4 kilometers and has 835 data points\n",
    "    - Which means there's on average 43,6 meters between two points\n",
    "    - Haversine distance will be off, but hopefully not much\n",
    "- Let's first define a function to calculate haversine distance:"
   ]
  },
  {
   "cell_type": "code",
   "execution_count": 4,
   "id": "cc860cc9-7b65-4952-ad30-73ec73e8eef2",
   "metadata": {
    "tags": []
   },
   "outputs": [],
   "source": [
    "def haversine_distance(lat1, lon1, lat2, lon2) -> float:\n",
    "    distance = hs.haversine(\n",
    "        point1=(lat1, lon1),\n",
    "        point2=(lat2, lon2),\n",
    "        unit=hs.Unit.METERS\n",
    "    )\n",
    "    return np.round(distance, 2)"
   ]
  },
  {
   "cell_type": "markdown",
   "id": "50eda61d-be83-43ae-9ec3-2966d2f161ca",
   "metadata": {},
   "source": [
    "- Let's test it\n",
    "- The example below measures the distance between the first and the second point:"
   ]
  },
  {
   "cell_type": "code",
   "execution_count": 5,
   "id": "8c794c26-ede1-49cb-8106-93cdb46d3e9f",
   "metadata": {},
   "outputs": [
    {
     "data": {
      "text/plain": [
       "87.59"
      ]
     },
     "execution_count": 5,
     "metadata": {},
     "output_type": "execute_result"
    }
   ],
   "source": [
    "haversine_distance(\n",
    "    lat1=route_df.iloc[0]['latitude'],\n",
    "    lon1=route_df.iloc[0]['longitude'],\n",
    "    lat2=route_df.iloc[1]['latitude'],\n",
    "    lon2=route_df.iloc[1]['longitude']\n",
    ")"
   ]
  },
  {
   "cell_type": "markdown",
   "id": "e8023c63-73f3-41db-9f2d-fdaabaf531b9",
   "metadata": {},
   "source": [
    "- It's 87,59 meters, but we can't verify it through Strava\n",
    "- Let's calculate the distances between all data points\n",
    "    - We have to skip the first row as there's no data point before it:"
   ]
  },
  {
   "cell_type": "code",
   "execution_count": 6,
   "id": "90284425-1392-439f-96b0-992eb9728bf2",
   "metadata": {},
   "outputs": [
    {
     "data": {
      "text/html": [
       "<div>\n",
       "<style scoped>\n",
       "    .dataframe tbody tr th:only-of-type {\n",
       "        vertical-align: middle;\n",
       "    }\n",
       "\n",
       "    .dataframe tbody tr th {\n",
       "        vertical-align: top;\n",
       "    }\n",
       "\n",
       "    .dataframe thead th {\n",
       "        text-align: right;\n",
       "    }\n",
       "</style>\n",
       "<table border=\"1\" class=\"dataframe\">\n",
       "  <thead>\n",
       "    <tr style=\"text-align: right;\">\n",
       "      <th></th>\n",
       "      <th>latitude</th>\n",
       "      <th>longitude</th>\n",
       "      <th>elevation</th>\n",
       "      <th>elevation_diff</th>\n",
       "      <th>distance</th>\n",
       "    </tr>\n",
       "  </thead>\n",
       "  <tbody>\n",
       "    <tr>\n",
       "      <th>0</th>\n",
       "      <td>45.772480</td>\n",
       "      <td>15.958040</td>\n",
       "      <td>113.96</td>\n",
       "      <td>NaN</td>\n",
       "      <td>NaN</td>\n",
       "    </tr>\n",
       "    <tr>\n",
       "      <th>1</th>\n",
       "      <td>45.772770</td>\n",
       "      <td>15.959090</td>\n",
       "      <td>115.82</td>\n",
       "      <td>1.86</td>\n",
       "      <td>87.59</td>\n",
       "    </tr>\n",
       "    <tr>\n",
       "      <th>2</th>\n",
       "      <td>45.773270</td>\n",
       "      <td>15.958795</td>\n",
       "      <td>116.15</td>\n",
       "      <td>0.33</td>\n",
       "      <td>60.12</td>\n",
       "    </tr>\n",
       "    <tr>\n",
       "      <th>3</th>\n",
       "      <td>45.773770</td>\n",
       "      <td>15.958500</td>\n",
       "      <td>116.12</td>\n",
       "      <td>-0.03</td>\n",
       "      <td>60.12</td>\n",
       "    </tr>\n",
       "    <tr>\n",
       "      <th>4</th>\n",
       "      <td>45.774235</td>\n",
       "      <td>15.959335</td>\n",
       "      <td>115.98</td>\n",
       "      <td>-0.14</td>\n",
       "      <td>82.87</td>\n",
       "    </tr>\n",
       "  </tbody>\n",
       "</table>\n",
       "</div>"
      ],
      "text/plain": [
       "    latitude  longitude  elevation  elevation_diff  distance\n",
       "0  45.772480  15.958040     113.96             NaN       NaN\n",
       "1  45.772770  15.959090     115.82            1.86     87.59\n",
       "2  45.773270  15.958795     116.15            0.33     60.12\n",
       "3  45.773770  15.958500     116.12           -0.03     60.12\n",
       "4  45.774235  15.959335     115.98           -0.14     82.87"
      ]
     },
     "execution_count": 6,
     "metadata": {},
     "output_type": "execute_result"
    }
   ],
   "source": [
    "distances = [np.nan]\n",
    "\n",
    "for i in range(len(route_df)):\n",
    "    if i == 0:\n",
    "        continue\n",
    "    else:\n",
    "        distances.append(haversine_distance(\n",
    "            lat1=route_df.iloc[i - 1]['latitude'],\n",
    "            lon1=route_df.iloc[i - 1]['longitude'],\n",
    "            lat2=route_df.iloc[i]['latitude'],\n",
    "            lon2=route_df.iloc[i]['longitude']\n",
    "        ))\n",
    "        \n",
    "route_df['distance'] = distances\n",
    "route_df.head()"
   ]
  },
  {
   "cell_type": "markdown",
   "id": "c069b292-2e8d-435d-a153-54b93541bf97",
   "metadata": {},
   "source": [
    "### Total Uphill\n",
    "- How to calculate it?\n",
    "- Simple - subset the column so only the rows with positive `elevation_diff` are kept, and then calculate the sum of the elevation difference:"
   ]
  },
  {
   "cell_type": "code",
   "execution_count": 7,
   "id": "0e8fc860-0c4d-401f-8f7a-e2420682d93d",
   "metadata": {},
   "outputs": [
    {
     "data": {
      "text/plain": [
       "311.97999999999996"
      ]
     },
     "execution_count": 7,
     "metadata": {},
     "output_type": "execute_result"
    }
   ],
   "source": [
    "route_df[route_df['elevation_diff'] >= 0]['elevation_diff'].sum()"
   ]
  },
  {
   "cell_type": "markdown",
   "id": "924decb9-0bbf-4638-bd25-2161aedee92c",
   "metadata": {},
   "source": [
    "- The official Strava route states there's 288 meters of elevation, so we're a bit off"
   ]
  },
  {
   "cell_type": "markdown",
   "id": "71df9dc0-2bde-4934-9268-7bf553fcf90f",
   "metadata": {},
   "source": [
    "### Total Distance\n",
    "- To calculate the total distance, simply sum the `distance` column:"
   ]
  },
  {
   "cell_type": "code",
   "execution_count": 8,
   "id": "46462286-22d7-4a5c-809b-34731c85fec1",
   "metadata": {},
   "outputs": [
    {
     "data": {
      "text/plain": [
       "36449.990000000005"
      ]
     },
     "execution_count": 8,
     "metadata": {},
     "output_type": "execute_result"
    }
   ],
   "source": [
    "route_df['distance'].sum()"
   ]
  },
  {
   "cell_type": "markdown",
   "id": "674046ac-74ea-43d0-a823-8d36ad2b6252",
   "metadata": {},
   "source": [
    "- The official Strava route states 36,4 km - we're dead on even with the simple haversine distance calculation!"
   ]
  },
  {
   "cell_type": "markdown",
   "id": "2a078176-9b0f-4697-9a69-3b5fc1ee881a",
   "metadata": {},
   "source": [
    "<br>\n",
    "\n",
    "## Visualize the Elevation profile\n",
    "- Let's see if our calculations make sense by visualizing the elevation profile\n",
    "    - Shows meters of climbing at different distances\n",
    "- To make things simpler, we'll calculate a cumulative sum for elevation and distance"
   ]
  },
  {
   "cell_type": "code",
   "execution_count": 9,
   "id": "22527405-8ae9-48ad-b9b9-7cb94d89ec34",
   "metadata": {},
   "outputs": [
    {
     "data": {
      "text/html": [
       "<div>\n",
       "<style scoped>\n",
       "    .dataframe tbody tr th:only-of-type {\n",
       "        vertical-align: middle;\n",
       "    }\n",
       "\n",
       "    .dataframe tbody tr th {\n",
       "        vertical-align: top;\n",
       "    }\n",
       "\n",
       "    .dataframe thead th {\n",
       "        text-align: right;\n",
       "    }\n",
       "</style>\n",
       "<table border=\"1\" class=\"dataframe\">\n",
       "  <thead>\n",
       "    <tr style=\"text-align: right;\">\n",
       "      <th></th>\n",
       "      <th>latitude</th>\n",
       "      <th>longitude</th>\n",
       "      <th>elevation</th>\n",
       "      <th>elevation_diff</th>\n",
       "      <th>distance</th>\n",
       "      <th>cum_elevation</th>\n",
       "      <th>cum_distance</th>\n",
       "    </tr>\n",
       "  </thead>\n",
       "  <tbody>\n",
       "    <tr>\n",
       "      <th>0</th>\n",
       "      <td>45.772480</td>\n",
       "      <td>15.958040</td>\n",
       "      <td>113.96</td>\n",
       "      <td>NaN</td>\n",
       "      <td>NaN</td>\n",
       "      <td>NaN</td>\n",
       "      <td>NaN</td>\n",
       "    </tr>\n",
       "    <tr>\n",
       "      <th>1</th>\n",
       "      <td>45.772770</td>\n",
       "      <td>15.959090</td>\n",
       "      <td>115.82</td>\n",
       "      <td>1.86</td>\n",
       "      <td>87.59</td>\n",
       "      <td>1.86</td>\n",
       "      <td>87.59</td>\n",
       "    </tr>\n",
       "    <tr>\n",
       "      <th>2</th>\n",
       "      <td>45.773270</td>\n",
       "      <td>15.958795</td>\n",
       "      <td>116.15</td>\n",
       "      <td>0.33</td>\n",
       "      <td>60.12</td>\n",
       "      <td>2.19</td>\n",
       "      <td>147.71</td>\n",
       "    </tr>\n",
       "    <tr>\n",
       "      <th>3</th>\n",
       "      <td>45.773770</td>\n",
       "      <td>15.958500</td>\n",
       "      <td>116.12</td>\n",
       "      <td>-0.03</td>\n",
       "      <td>60.12</td>\n",
       "      <td>2.16</td>\n",
       "      <td>207.83</td>\n",
       "    </tr>\n",
       "    <tr>\n",
       "      <th>4</th>\n",
       "      <td>45.774235</td>\n",
       "      <td>15.959335</td>\n",
       "      <td>115.98</td>\n",
       "      <td>-0.14</td>\n",
       "      <td>82.87</td>\n",
       "      <td>2.02</td>\n",
       "      <td>290.70</td>\n",
       "    </tr>\n",
       "  </tbody>\n",
       "</table>\n",
       "</div>"
      ],
      "text/plain": [
       "    latitude  longitude  elevation  elevation_diff  distance  cum_elevation  \\\n",
       "0  45.772480  15.958040     113.96             NaN       NaN            NaN   \n",
       "1  45.772770  15.959090     115.82            1.86     87.59           1.86   \n",
       "2  45.773270  15.958795     116.15            0.33     60.12           2.19   \n",
       "3  45.773770  15.958500     116.12           -0.03     60.12           2.16   \n",
       "4  45.774235  15.959335     115.98           -0.14     82.87           2.02   \n",
       "\n",
       "   cum_distance  \n",
       "0           NaN  \n",
       "1         87.59  \n",
       "2        147.71  \n",
       "3        207.83  \n",
       "4        290.70  "
      ]
     },
     "execution_count": 9,
     "metadata": {},
     "output_type": "execute_result"
    }
   ],
   "source": [
    "route_df['cum_elevation'] = route_df['elevation_diff'].cumsum()\n",
    "route_df['cum_distance'] = route_df['distance'].cumsum()\n",
    "\n",
    "route_df.head()"
   ]
  },
  {
   "cell_type": "markdown",
   "id": "8aabdbb9-e59d-410e-96a0-8e76fbb55b6f",
   "metadata": {},
   "source": [
    "- Let's get rid of the NaNs\n",
    "- We'll fill the NaNs with zeros, as that makes more sense for this dataset:"
   ]
  },
  {
   "cell_type": "code",
   "execution_count": 10,
   "id": "3b152671-7b3c-4e7f-8116-3e52a1f5e00b",
   "metadata": {},
   "outputs": [
    {
     "data": {
      "text/html": [
       "<div>\n",
       "<style scoped>\n",
       "    .dataframe tbody tr th:only-of-type {\n",
       "        vertical-align: middle;\n",
       "    }\n",
       "\n",
       "    .dataframe tbody tr th {\n",
       "        vertical-align: top;\n",
       "    }\n",
       "\n",
       "    .dataframe thead th {\n",
       "        text-align: right;\n",
       "    }\n",
       "</style>\n",
       "<table border=\"1\" class=\"dataframe\">\n",
       "  <thead>\n",
       "    <tr style=\"text-align: right;\">\n",
       "      <th></th>\n",
       "      <th>latitude</th>\n",
       "      <th>longitude</th>\n",
       "      <th>elevation</th>\n",
       "      <th>elevation_diff</th>\n",
       "      <th>distance</th>\n",
       "      <th>cum_elevation</th>\n",
       "      <th>cum_distance</th>\n",
       "    </tr>\n",
       "  </thead>\n",
       "  <tbody>\n",
       "    <tr>\n",
       "      <th>0</th>\n",
       "      <td>45.772480</td>\n",
       "      <td>15.958040</td>\n",
       "      <td>113.96</td>\n",
       "      <td>0.00</td>\n",
       "      <td>0.00</td>\n",
       "      <td>0.00</td>\n",
       "      <td>0.00</td>\n",
       "    </tr>\n",
       "    <tr>\n",
       "      <th>1</th>\n",
       "      <td>45.772770</td>\n",
       "      <td>15.959090</td>\n",
       "      <td>115.82</td>\n",
       "      <td>1.86</td>\n",
       "      <td>87.59</td>\n",
       "      <td>1.86</td>\n",
       "      <td>87.59</td>\n",
       "    </tr>\n",
       "    <tr>\n",
       "      <th>2</th>\n",
       "      <td>45.773270</td>\n",
       "      <td>15.958795</td>\n",
       "      <td>116.15</td>\n",
       "      <td>0.33</td>\n",
       "      <td>60.12</td>\n",
       "      <td>2.19</td>\n",
       "      <td>147.71</td>\n",
       "    </tr>\n",
       "    <tr>\n",
       "      <th>3</th>\n",
       "      <td>45.773770</td>\n",
       "      <td>15.958500</td>\n",
       "      <td>116.12</td>\n",
       "      <td>-0.03</td>\n",
       "      <td>60.12</td>\n",
       "      <td>2.16</td>\n",
       "      <td>207.83</td>\n",
       "    </tr>\n",
       "    <tr>\n",
       "      <th>4</th>\n",
       "      <td>45.774235</td>\n",
       "      <td>15.959335</td>\n",
       "      <td>115.98</td>\n",
       "      <td>-0.14</td>\n",
       "      <td>82.87</td>\n",
       "      <td>2.02</td>\n",
       "      <td>290.70</td>\n",
       "    </tr>\n",
       "  </tbody>\n",
       "</table>\n",
       "</div>"
      ],
      "text/plain": [
       "    latitude  longitude  elevation  elevation_diff  distance  cum_elevation  \\\n",
       "0  45.772480  15.958040     113.96            0.00      0.00           0.00   \n",
       "1  45.772770  15.959090     115.82            1.86     87.59           1.86   \n",
       "2  45.773270  15.958795     116.15            0.33     60.12           2.19   \n",
       "3  45.773770  15.958500     116.12           -0.03     60.12           2.16   \n",
       "4  45.774235  15.959335     115.98           -0.14     82.87           2.02   \n",
       "\n",
       "   cum_distance  \n",
       "0          0.00  \n",
       "1         87.59  \n",
       "2        147.71  \n",
       "3        207.83  \n",
       "4        290.70  "
      ]
     },
     "execution_count": 10,
     "metadata": {},
     "output_type": "execute_result"
    }
   ],
   "source": [
    "route_df = route_df.fillna(0)\n",
    "\n",
    "route_df.head()"
   ]
  },
  {
   "cell_type": "markdown",
   "id": "f85108d7-73ba-401a-8187-d7a40266d057",
   "metadata": {},
   "source": [
    "- We'll save this dataset for the upcoming notebooks:"
   ]
  },
  {
   "cell_type": "code",
   "execution_count": 11,
   "id": "87578b62-af38-406b-9dae-2fdf6e06ddc0",
   "metadata": {},
   "outputs": [],
   "source": [
    "route_df.to_csv('../data/route_df_elevation_distance.csv', index=False)"
   ]
  },
  {
   "cell_type": "markdown",
   "id": "036d18e8-08bf-4d18-baf4-a20b54ab5317",
   "metadata": {},
   "source": [
    "- Finally, let's use Matplotlib to plot the elevation profile:"
   ]
  },
  {
   "cell_type": "code",
   "execution_count": 14,
   "id": "1050d8cc-550e-43cd-a8e4-da1430f4549e",
   "metadata": {},
   "outputs": [
    {
     "data": {
      "image/png": "[encoded data removed]",
      "text/plain": [
       "<Figure size 1152x432 with 1 Axes>"
      ]
     },
     "metadata": {
      "needs_background": "light"
     },
     "output_type": "display_data"
    }
   ],
   "source": [
    "plt.plot(route_df['cum_distance'], route_df['cum_elevation'], color='#101010', lw=3)\n",
    "plt.title('Route elevation profile', size=20)\n",
    "plt.xlabel('Distance in meters', size=14)\n",
    "plt.ylabel('Elevation in meters', size=14);\n",
    "plt.savefig('fig.jpg', dpi=300, bbox_inches='tight')"
   ]
  },
  {
   "cell_type": "markdown",
   "id": "34ae3aa8-5722-42fd-86aa-bd214dbba852",
   "metadata": {},
   "source": [
    "- It's difficult to say if it looks exactly like the one on Strava, but it looks almost identical!\n",
    "- In the next notebook, you'll learn how to calculate gradients based on the elevation difference and distance between the data points."
   ]
  }
 ],
 "metadata": {
  "kernelspec": {
   "display_name": "Python 3 (ipykernel)",
   "language": "python",
   "name": "python3"
  },
  "language_info": {
   "codemirror_mode": {
    "name": "ipython",
    "version": 3
   },
   "file_extension": ".py",
   "mimetype": "text/x-python",
   "name": "python",
   "nbconvert_exporter": "python",
   "pygments_lexer": "ipython3",
   "version": "3.9.4"
  }
 },
 "nbformat": 4,
 "nbformat_minor": 5
}
